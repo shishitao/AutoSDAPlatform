{
 "cells": [
  {
   "cell_type": "markdown",
   "id": "ae767551",
   "metadata": {},
   "source": [
    "# AutoSDA Test"
   ]
  },
  {
   "cell_type": "markdown",
   "id": "33350ce8",
   "metadata": {
    "toc": true
   },
   "source": [
    "<h1>Table of Contents<span class=\"tocSkip\"></span></h1>\n",
    "<div class=\"toc\"><ul class=\"toc-item\"><li><span><a href=\"#Main-Script-Test\" data-toc-modified-id=\"Main-Script-Test-1\"><span class=\"toc-item-num\">1&nbsp;&nbsp;</span>Main Script Test</a></span><ul class=\"toc-item\"><li><span><a href=\"#main_design.py\" data-toc-modified-id=\"main_design.py-1.1\"><span class=\"toc-item-num\">1.1&nbsp;&nbsp;</span>main_design.py</a></span></li><li><span><a href=\"#main_program.py\" data-toc-modified-id=\"main_program.py-1.2\"><span class=\"toc-item-num\">1.2&nbsp;&nbsp;</span>main_program.py</a></span></li></ul></li><li><span><a href=\"#Function-Test\" data-toc-modified-id=\"Function-Test-2\"><span class=\"toc-item-num\">2&nbsp;&nbsp;</span>Function Test</a></span><ul class=\"toc-item\"><li><span><a href=\"#building_information.py\" data-toc-modified-id=\"building_information.py-2.1\"><span class=\"toc-item-num\">2.1&nbsp;&nbsp;</span>building_information.py</a></span><ul class=\"toc-item\"><li><span><a href=\"#init\" data-toc-modified-id=\"init-2.1.1\"><span class=\"toc-item-num\">2.1.1&nbsp;&nbsp;</span><strong>init</strong></a></span></li><li><span><a href=\"#define-directory\" data-toc-modified-id=\"define-directory-2.1.2\"><span class=\"toc-item-num\">2.1.2&nbsp;&nbsp;</span>define directory</a></span></li><li><span><a href=\"#read_geometry\" data-toc-modified-id=\"read_geometry-2.1.3\"><span class=\"toc-item-num\">2.1.3&nbsp;&nbsp;</span>read_geometry</a></span></li><li><span><a href=\"#read_gravity_loads\" data-toc-modified-id=\"read_gravity_loads-2.1.4\"><span class=\"toc-item-num\">2.1.4&nbsp;&nbsp;</span>read_gravity_loads</a></span></li><li><span><a href=\"#read_elf_parameters\" data-toc-modified-id=\"read_elf_parameters-2.1.5\"><span class=\"toc-item-num\">2.1.5&nbsp;&nbsp;</span>read_elf_parameters</a></span></li><li><span><a href=\"#compute_seismic_force\" data-toc-modified-id=\"compute_seismic_force-2.1.6\"><span class=\"toc-item-num\">2.1.6&nbsp;&nbsp;</span>compute_seismic_force</a></span></li><li><span><a href=\"#determine_member_candidate\" data-toc-modified-id=\"determine_member_candidate-2.1.7\"><span class=\"toc-item-num\">2.1.7&nbsp;&nbsp;</span>determine_member_candidate</a></span></li><li><span><a href=\"#initialize_member\" data-toc-modified-id=\"initialize_member-2.1.8\"><span class=\"toc-item-num\">2.1.8&nbsp;&nbsp;</span>initialize_member</a></span></li><li><span><a href=\"#read_modal_period\" data-toc-modified-id=\"read_modal_period-2.1.9\"><span class=\"toc-item-num\">2.1.9&nbsp;&nbsp;</span>read_modal_period</a></span></li><li><span><a href=\"#read_story_drift\" data-toc-modified-id=\"read_story_drift-2.1.10\"><span class=\"toc-item-num\">2.1.10&nbsp;&nbsp;</span>read_story_drift</a></span></li><li><span><a href=\"#optimize_member_for_drift\" data-toc-modified-id=\"optimize_member_for_drift-2.1.11\"><span class=\"toc-item-num\">2.1.11&nbsp;&nbsp;</span>optimize_member_for_drift</a></span></li><li><span><a href=\"#upscale_column\" data-toc-modified-id=\"upscale_column-2.1.12\"><span class=\"toc-item-num\">2.1.12&nbsp;&nbsp;</span>upscale_column</a></span></li><li><span><a href=\"#upscale_beam\" data-toc-modified-id=\"upscale_beam-2.1.13\"><span class=\"toc-item-num\">2.1.13&nbsp;&nbsp;</span>upscale_beam</a></span></li><li><span><a href=\"#constructability_beam\" data-toc-modified-id=\"constructability_beam-2.1.14\"><span class=\"toc-item-num\">2.1.14&nbsp;&nbsp;</span>constructability_beam</a></span></li><li><span><a href=\"#constructability_column\" data-toc-modified-id=\"constructability_column-2.1.15\"><span class=\"toc-item-num\">2.1.15&nbsp;&nbsp;</span>constructability_column</a></span></li></ul></li><li><span><a href=\"#elastic_analysis.py\" data-toc-modified-id=\"elastic_analysis.py-2.2\"><span class=\"toc-item-num\">2.2&nbsp;&nbsp;</span>elastic_analysis.py</a></span><ul class=\"toc-item\"><li><span><a href=\"#write_nodes\" data-toc-modified-id=\"write_nodes-2.2.1\"><span class=\"toc-item-num\">2.2.1&nbsp;&nbsp;</span>write_nodes</a></span></li><li><span><a href=\"#write_fixities\" data-toc-modified-id=\"write_fixities-2.2.2\"><span class=\"toc-item-num\">2.2.2&nbsp;&nbsp;</span>write_fixities</a></span></li><li><span><a href=\"#write_floor_constraint\" data-toc-modified-id=\"write_floor_constraint-2.2.3\"><span class=\"toc-item-num\">2.2.3&nbsp;&nbsp;</span>write_floor_constraint</a></span></li><li><span><a href=\"#write_beam\" data-toc-modified-id=\"write_beam-2.2.4\"><span class=\"toc-item-num\">2.2.4&nbsp;&nbsp;</span>write_beam</a></span></li></ul></li><li><span><a href=\"#global_variables.py\" data-toc-modified-id=\"global_variables.py-2.3\"><span class=\"toc-item-num\">2.3&nbsp;&nbsp;</span>global_variables.py</a></span><ul class=\"toc-item\"><li><span><a href=\"#SteelMaterial\" data-toc-modified-id=\"SteelMaterial-2.3.1\"><span class=\"toc-item-num\">2.3.1&nbsp;&nbsp;</span>SteelMaterial</a></span></li><li><span><a href=\"#base_directory\" data-toc-modified-id=\"base_directory-2.3.2\"><span class=\"toc-item-num\">2.3.2&nbsp;&nbsp;</span>base_directory</a></span></li></ul></li><li><span><a href=\"#help_functions.py\" data-toc-modified-id=\"help_functions.py-2.4\"><span class=\"toc-item-num\">2.4&nbsp;&nbsp;</span>help_functions.py</a></span><ul class=\"toc-item\"><li><span><a href=\"#\" data-toc-modified-id=\"-2.4.1\"><span class=\"toc-item-num\">2.4.1&nbsp;&nbsp;</span></a></span></li></ul></li><li><span><a href=\"#seismic_design.py\" data-toc-modified-id=\"seismic_design.py-2.5\"><span class=\"toc-item-num\">2.5&nbsp;&nbsp;</span>seismic_design.py</a></span><ul class=\"toc-item\"><li><span><a href=\"#seismic_force\" data-toc-modified-id=\"seismic_force-2.5.1\"><span class=\"toc-item-num\">2.5.1&nbsp;&nbsp;</span>seismic_force</a></span></li></ul></li></ul></li></ul></div>"
   ]
  },
  {
   "cell_type": "markdown",
   "id": "35ea421b",
   "metadata": {},
   "source": [
    "## Main Script Test"
   ]
  },
  {
   "cell_type": "markdown",
   "id": "47c458d6",
   "metadata": {},
   "source": [
    "### main_design.py"
   ]
  },
  {
   "cell_type": "code",
   "execution_count": 60,
   "id": "13baccfe",
   "metadata": {
    "scrolled": true
   },
   "outputs": [
    {
     "name": "stdout",
     "output_type": "stream",
     "text": [
      "Design for Building ID =  Building_0\n",
      "Member size after optimization 0\n",
      "Exterior column: ['W14X730', 'W14X730', 'W14X730']\n",
      "Interior column: ['W14X730', 'W14X730', 'W14X730']\n",
      "Beam: ['W33X263', 'W33X263', 'W33X263']\n",
      "Current story drifts: (%)\n",
      "[[0.69942235]\n",
      " [0.94686735]\n",
      " [0.6398601 ]]\n",
      "Member size after optimization 1\n",
      "Exterior column: ['W14X730', 'W14X730', 'W14X550']\n",
      "Interior column: ['W14X730', 'W14X730', 'W14X665']\n",
      "Beam: ['W33X263', 'W33X263', 'W33X241']\n",
      "Current story drifts: (%)\n",
      "[[0.69386845]\n",
      " [0.9453125 ]\n",
      " [0.69062565]]\n",
      "Member size after optimization 2\n",
      "Exterior column: ['W14X730', 'W14X730', 'W14X500']\n",
      "Interior column: ['W14X730', 'W14X730', 'W14X605']\n",
      "Beam: ['W33X263', 'W33X263', 'W30X235']\n",
      "Current story drifts: (%)\n",
      "[[0.68764905]\n",
      " [0.9421544 ]\n",
      " [0.7482398 ]]\n",
      "Member size after optimization 3\n",
      "Exterior column: ['W14X550', 'W14X730', 'W14X500']\n",
      "Interior column: ['W14X665', 'W14X730', 'W14X605']\n",
      "Beam: ['W33X241', 'W33X263', 'W30X235']\n",
      "Current story drifts: (%)\n",
      "[[0.78373515]\n",
      " [0.94754495]\n",
      " [0.7233743 ]]\n",
      "Member size after optimization 4\n",
      "Exterior column: ['W14X550', 'W14X730', 'W14X455']\n",
      "Interior column: ['W14X665', 'W14X730', 'W14X550']\n",
      "Beam: ['W33X241', 'W33X263', 'W27X217']\n",
      "Current story drifts: (%)\n",
      "[[0.7753196]\n",
      " [0.9434733]\n",
      " [0.7985395]]\n",
      "Member size after optimization 5\n",
      "Exterior column: ['W14X500', 'W14X730', 'W14X455']\n",
      "Interior column: ['W14X605', 'W14X730', 'W14X550']\n",
      "Beam: ['W30X235', 'W33X263', 'W27X217']\n",
      "Current story drifts: (%)\n",
      "[[0.85824695]\n",
      " [0.9695851 ]\n",
      " [0.77482955]]\n",
      "Member size after optimization 6\n",
      "Exterior column: ['W14X500', 'W14X730', 'W14X398']\n",
      "Interior column: ['W14X605', 'W14X730', 'W14X500']\n",
      "Beam: ['W30X235', 'W33X263', 'W27X194']\n",
      "Current story drifts: (%)\n",
      "[[0.85151935]\n",
      " [0.9651928 ]\n",
      " [0.83488185]]\n",
      "Member size after optimization 7\n",
      "Exterior column: ['W14X500', 'W14X730', 'W14X370']\n",
      "Interior column: ['W14X605', 'W14X730', 'W14X455']\n",
      "Beam: ['W30X235', 'W33X263', 'W27X178']\n",
      "Current story drifts: (%)\n",
      "[[0.84498535]\n",
      " [0.96047985]\n",
      " [0.89286505]]\n",
      "Member size after optimization 8\n",
      "Exterior column: ['W14X455', 'W14X730', 'W14X370']\n",
      "Interior column: ['W14X550', 'W14X730', 'W14X455']\n",
      "Beam: ['W27X217', 'W33X263', 'W27X178']\n",
      "Current story drifts: (%)\n",
      "[[0.9449616]\n",
      " [1.0067926]\n",
      " [0.8615684]]\n",
      "Member size after optimization 9\n",
      "Exterior column: ['W14X455', 'W14X730', 'W14X342']\n",
      "Interior column: ['W14X550', 'W14X730', 'W14X426']\n",
      "Beam: ['W27X217', 'W33X263', 'W33X152']\n",
      "Current story drifts: (%)\n",
      "[[0.94489505]\n",
      " [1.00516515]\n",
      " [0.8628873 ]]\n",
      "Member size after optimization 10\n",
      "Exterior column: ['W14X455', 'W14X730', 'W14X311']\n",
      "Interior column: ['W14X550', 'W14X730', 'W14X398']\n",
      "Beam: ['W27X217', 'W33X263', 'W30X148']\n",
      "Current story drifts: (%)\n",
      "[[0.93684855]\n",
      " [0.99976855]\n",
      " [0.9337691 ]]\n",
      "Member size after optimization 11\n",
      "Exterior column: ['W14X455', 'W14X730', 'W14X283']\n",
      "Interior column: ['W14X550', 'W14X730', 'W14X370']\n",
      "Beam: ['W27X217', 'W33X263', 'W27X146']\n",
      "Current story drifts: (%)\n",
      "[[0.92858425]\n",
      " [0.9935068 ]\n",
      " [1.0060908 ]]\n",
      "Member size after optimization 12\n",
      "Exterior column: ['W14X398', 'W14X730', 'W14X283']\n",
      "Interior column: ['W14X500', 'W14X730', 'W14X370']\n",
      "Beam: ['W27X194', 'W33X263', 'W27X146']\n",
      "Current story drifts: (%)\n",
      "[[1.0175495]\n",
      " [1.0121408]\n",
      " [0.9783697]]\n",
      "Member size after optimization 13\n",
      "Exterior column: ['W14X398', 'W14X730', 'W14X283']\n",
      "Interior column: ['W14X500', 'W14X730', 'W14X342']\n",
      "Beam: ['W27X194', 'W33X263', 'W30X124']\n",
      "Current story drifts: (%)\n",
      "[[1.01247355]\n",
      " [1.0084745 ]\n",
      " [1.0219297 ]]\n",
      "Member size after optimization 14\n",
      "Exterior column: ['W14X398', 'W14X550', 'W14X283']\n",
      "Interior column: ['W14X500', 'W14X665', 'W14X342']\n",
      "Beam: ['W27X194', 'W33X241', 'W30X124']\n",
      "Current story drifts: (%)\n",
      "[[1.0066958]\n",
      " [1.0773235]\n",
      " [1.0247611]]\n",
      "Member size after optimization 15\n",
      "Exterior column: ['W14X370', 'W14X550', 'W14X283']\n",
      "Interior column: ['W14X455', 'W14X665', 'W14X342']\n",
      "Beam: ['W27X178', 'W33X241', 'W30X124']\n",
      "Current story drifts: (%)\n",
      "[[1.08668285]\n",
      " [1.0955219 ]\n",
      " [1.0002344 ]]\n",
      "Member size after optimization 16\n",
      "Exterior column: ['W14X370', 'W14X550', 'W14X257']\n",
      "Interior column: ['W14X455', 'W14X665', 'W14X311']\n",
      "Beam: ['W27X178', 'W33X241', 'W30X116']\n",
      "Current story drifts: (%)\n",
      "[[1.07868475]\n",
      " [1.089     ]\n",
      " [1.0696884 ]]\n",
      "Member size after optimization 17\n",
      "Exterior column: ['W14X370', 'W14X550', 'W14X233']\n",
      "Interior column: ['W14X455', 'W14X665', 'W14X283']\n",
      "Beam: ['W27X178', 'W33X241', 'W27X114']\n",
      "Current story drifts: (%)\n",
      "[[1.0668812 ]\n",
      " [1.07987055]\n",
      " [1.1708444 ]]\n",
      "Member size after optimization 18\n",
      "Exterior column: ['W14X342', 'W14X550', 'W14X233']\n",
      "Interior column: ['W14X426', 'W14X665', 'W14X283']\n",
      "Beam: ['W33X152', 'W33X241', 'W27X114']\n",
      "Current story drifts: (%)\n",
      "[[1.0856967 ]\n",
      " [1.03754475]\n",
      " [1.17043905]]\n",
      "Member size after optimization 19\n",
      "Exterior column: ['W14X342', 'W14X500', 'W14X233']\n",
      "Interior column: ['W14X426', 'W14X605', 'W14X283']\n",
      "Beam: ['W33X152', 'W30X235', 'W27X114']\n",
      "Current story drifts: (%)\n",
      "[[1.0743469 ]\n",
      " [1.11439185]\n",
      " [1.1975128 ]]\n",
      "Member size after optimization 20\n",
      "Exterior column: ['W14X311', 'W14X500', 'W14X233']\n",
      "Interior column: ['W14X398', 'W14X605', 'W14X283']\n",
      "Beam: ['W30X148', 'W30X235', 'W27X114']\n",
      "Current story drifts: (%)\n",
      "[[1.17068105]\n",
      " [1.15620945]\n",
      " [1.16406235]]\n",
      "Member size after optimization 21\n",
      "Exterior column: ['W14X311', 'W14X455', 'W14X233']\n",
      "Interior column: ['W14X398', 'W14X550', 'W14X283']\n",
      "Beam: ['W30X148', 'W27X217', 'W27X114']\n",
      "Current story drifts: (%)\n",
      "[[1.162689  ]\n",
      " [1.2671725 ]\n",
      " [1.22418725]]\n",
      "Member size after optimization 22\n",
      "Exterior column: ['W14X283', 'W14X455', 'W14X233']\n",
      "Interior column: ['W14X370', 'W14X550', 'W14X283']\n",
      "Beam: ['W27X146', 'W27X217', 'W27X114']\n",
      "Current story drifts: (%)\n",
      "[[1.30749575]\n",
      " [1.35400815]\n",
      " [1.2404073 ]]\n",
      "Member size after optimization 23\n",
      "Exterior column: ['W14X283', 'W14X455', 'W14X193']\n",
      "Interior column: ['W14X370', 'W14X550', 'W14X257']\n",
      "Beam: ['W27X146', 'W27X217', 'W27X102']\n",
      "Current story drifts: (%)\n",
      "[[1.30825805]\n",
      " [1.35780755]\n",
      " [1.35651285]]\n",
      "Member size after optimization 24\n",
      "Exterior column: ['W14X283', 'W14X455', 'W14X193']\n",
      "Interior column: ['W14X342', 'W14X550', 'W14X257']\n",
      "Beam: ['W30X124', 'W27X217', 'W27X102']\n",
      "Current story drifts: (%)\n",
      "[[1.3914274 ]\n",
      " [1.39251035]\n",
      " [1.36276855]]\n",
      "Member size after optimization 25\n",
      "Exterior column: ['W14X283', 'W14X455', 'W14X176']\n",
      "Interior column: ['W14X342', 'W14X550', 'W14X233']\n",
      "Beam: ['W30X124', 'W27X217', 'W27X94']\n",
      "Current story drifts: (%)\n",
      "[[1.3920687]\n",
      " [1.3958318]\n",
      " [1.4722796]]\n",
      "Member size after optimization 26\n",
      "Exterior column: ['W14X257', 'W14X455', 'W14X176']\n",
      "Interior column: ['W14X311', 'W14X550', 'W14X233']\n",
      "Beam: ['W30X116', 'W27X217', 'W27X94']\n",
      "Current story drifts: (%)\n",
      "[[1.54217525]\n",
      " [1.45343385]\n",
      " [1.48322405]]\n",
      "Member size after optimization 27\n",
      "Exterior column: ['W14X257', 'W14X398', 'W14X176']\n",
      "Interior column: ['W14X311', 'W14X500', 'W14X233']\n",
      "Beam: ['W30X116', 'W27X194', 'W27X94']\n",
      "Current story drifts: (%)\n",
      "[[1.56287835]\n",
      " [1.56900095]\n",
      " [1.5318116 ]]\n",
      "Member size after optimization 28\n",
      "Exterior column: ['W14X257', 'W14X398', 'W14X159']\n",
      "Interior column: ['W14X311', 'W14X500', 'W14X211']\n",
      "Beam: ['W30X116', 'W27X194', 'W27X94']\n",
      "Current story drifts: (%)\n",
      "[[1.56304775]\n",
      " [1.5700234 ]\n",
      " [1.6183508 ]]\n",
      "Member size after optimization 29\n",
      "Exterior column: ['W14X233', 'W14X398', 'W14X159']\n",
      "Interior column: ['W14X283', 'W14X500', 'W14X211']\n",
      "Beam: ['W27X114', 'W27X194', 'W27X94']\n",
      "Current story drifts: (%)\n",
      "[[1.78632905]\n",
      " [1.6989489 ]\n",
      " [1.6417643 ]]\n",
      "Member size after optimization 30\n",
      "Exterior column: ['W14X233', 'W14X398', 'W14X145']\n",
      "Interior column: ['W14X283', 'W14X500', 'W14X193']\n",
      "Beam: ['W27X114', 'W27X194', 'W27X94']\n",
      "Current story drifts: (%)\n",
      "[[1.7865166 ]\n",
      " [1.69991085]\n",
      " [1.72378415]]\n",
      "Member size after optimization 31\n",
      "Exterior column: ['W14X233', 'W14X370', 'W14X145']\n",
      "Interior column: ['W14X283', 'W14X455', 'W14X193']\n",
      "Beam: ['W27X114', 'W27X178', 'W27X94']\n",
      "Current story drifts: (%)\n",
      "[[1.80896815]\n",
      " [1.81778905]\n",
      " [1.77392655]]\n",
      "Member size after optimization 32\n",
      "Exterior column: ['W14X233', 'W14X370', 'W14X132']\n",
      "Interior column: ['W14X283', 'W14X455', 'W14X176']\n",
      "Beam: ['W27X114', 'W27X178', 'W27X94']\n",
      "Current story drifts: (%)\n",
      "[[1.80923435]\n",
      " [1.81925315]\n",
      " [1.87480425]]\n",
      "Design for Building ID =  Building_3\n",
      "Member size after optimization 0\n",
      "Exterior column: ['W14X730', 'W14X730', 'W14X730']\n",
      "Interior column: ['W14X730', 'W14X730', 'W14X730']\n",
      "Beam: ['W33X263', 'W33X263', 'W33X263']\n",
      "Current story drifts: (%)\n",
      "[[0.69942235]\n",
      " [0.94686735]\n",
      " [0.6398601 ]]\n"
     ]
    },
    {
     "name": "stdout",
     "output_type": "stream",
     "text": [
      "Member size after optimization 1\n",
      "Exterior column: ['W14X730', 'W14X730', 'W14X550']\n",
      "Interior column: ['W14X730', 'W14X730', 'W14X665']\n",
      "Beam: ['W33X263', 'W33X263', 'W33X241']\n",
      "Current story drifts: (%)\n",
      "[[0.69386845]\n",
      " [0.9453125 ]\n",
      " [0.69062565]]\n",
      "Member size after optimization 2\n",
      "Exterior column: ['W14X730', 'W14X730', 'W14X500']\n",
      "Interior column: ['W14X730', 'W14X730', 'W14X605']\n",
      "Beam: ['W33X263', 'W33X263', 'W30X235']\n",
      "Current story drifts: (%)\n",
      "[[0.68764905]\n",
      " [0.9421544 ]\n",
      " [0.7482398 ]]\n",
      "Member size after optimization 3\n",
      "Exterior column: ['W14X550', 'W14X730', 'W14X500']\n",
      "Interior column: ['W14X665', 'W14X730', 'W14X605']\n",
      "Beam: ['W33X241', 'W33X263', 'W30X235']\n",
      "Current story drifts: (%)\n",
      "[[0.78373515]\n",
      " [0.94754495]\n",
      " [0.7233743 ]]\n",
      "Member size after optimization 4\n",
      "Exterior column: ['W14X550', 'W14X730', 'W14X455']\n",
      "Interior column: ['W14X665', 'W14X730', 'W14X550']\n",
      "Beam: ['W33X241', 'W33X263', 'W27X217']\n",
      "Current story drifts: (%)\n",
      "[[0.7753196]\n",
      " [0.9434733]\n",
      " [0.7985395]]\n",
      "Member size after optimization 5\n",
      "Exterior column: ['W14X500', 'W14X730', 'W14X455']\n",
      "Interior column: ['W14X605', 'W14X730', 'W14X550']\n",
      "Beam: ['W30X235', 'W33X263', 'W27X217']\n",
      "Current story drifts: (%)\n",
      "[[0.85824695]\n",
      " [0.9695851 ]\n",
      " [0.77482955]]\n",
      "Member size after optimization 6\n",
      "Exterior column: ['W14X500', 'W14X730', 'W14X398']\n",
      "Interior column: ['W14X605', 'W14X730', 'W14X500']\n",
      "Beam: ['W30X235', 'W33X263', 'W27X194']\n",
      "Current story drifts: (%)\n",
      "[[0.85151935]\n",
      " [0.9651928 ]\n",
      " [0.83488185]]\n",
      "Member size after optimization 7\n",
      "Exterior column: ['W14X500', 'W14X730', 'W14X370']\n",
      "Interior column: ['W14X605', 'W14X730', 'W14X455']\n",
      "Beam: ['W30X235', 'W33X263', 'W27X178']\n",
      "Current story drifts: (%)\n",
      "[[0.84498535]\n",
      " [0.96047985]\n",
      " [0.89286505]]\n",
      "Member size after optimization 8\n",
      "Exterior column: ['W14X455', 'W14X730', 'W14X370']\n",
      "Interior column: ['W14X550', 'W14X730', 'W14X455']\n",
      "Beam: ['W27X217', 'W33X263', 'W27X178']\n",
      "Current story drifts: (%)\n",
      "[[0.9449616]\n",
      " [1.0067926]\n",
      " [0.8615684]]\n",
      "Member size after optimization 9\n",
      "Exterior column: ['W14X455', 'W14X730', 'W14X342']\n",
      "Interior column: ['W14X550', 'W14X730', 'W14X426']\n",
      "Beam: ['W27X217', 'W33X263', 'W33X152']\n",
      "Current story drifts: (%)\n",
      "[[0.94489505]\n",
      " [1.00516515]\n",
      " [0.8628873 ]]\n",
      "Member size after optimization 10\n",
      "Exterior column: ['W14X455', 'W14X730', 'W14X311']\n",
      "Interior column: ['W14X550', 'W14X730', 'W14X398']\n",
      "Beam: ['W27X217', 'W33X263', 'W30X148']\n",
      "Current story drifts: (%)\n",
      "[[0.93684855]\n",
      " [0.99976855]\n",
      " [0.9337691 ]]\n",
      "Member size after optimization 11\n",
      "Exterior column: ['W14X455', 'W14X730', 'W14X283']\n",
      "Interior column: ['W14X550', 'W14X730', 'W14X370']\n",
      "Beam: ['W27X217', 'W33X263', 'W27X146']\n",
      "Current story drifts: (%)\n",
      "[[0.92858425]\n",
      " [0.9935068 ]\n",
      " [1.0060908 ]]\n",
      "Member size after optimization 12\n",
      "Exterior column: ['W14X398', 'W14X730', 'W14X283']\n",
      "Interior column: ['W14X500', 'W14X730', 'W14X370']\n",
      "Beam: ['W27X194', 'W33X263', 'W27X146']\n",
      "Current story drifts: (%)\n",
      "[[1.0175495]\n",
      " [1.0121408]\n",
      " [0.9783697]]\n",
      "Member size after optimization 13\n",
      "Exterior column: ['W14X398', 'W14X730', 'W14X283']\n",
      "Interior column: ['W14X500', 'W14X730', 'W14X342']\n",
      "Beam: ['W27X194', 'W33X263', 'W30X124']\n",
      "Current story drifts: (%)\n",
      "[[1.01247355]\n",
      " [1.0084745 ]\n",
      " [1.0219297 ]]\n",
      "Member size after optimization 14\n",
      "Exterior column: ['W14X398', 'W14X550', 'W14X283']\n",
      "Interior column: ['W14X500', 'W14X665', 'W14X342']\n",
      "Beam: ['W27X194', 'W33X241', 'W30X124']\n",
      "Current story drifts: (%)\n",
      "[[1.0066958]\n",
      " [1.0773235]\n",
      " [1.0247611]]\n",
      "Member size after optimization 15\n",
      "Exterior column: ['W14X370', 'W14X550', 'W14X283']\n",
      "Interior column: ['W14X455', 'W14X665', 'W14X342']\n",
      "Beam: ['W27X178', 'W33X241', 'W30X124']\n",
      "Current story drifts: (%)\n",
      "[[1.08668285]\n",
      " [1.0955219 ]\n",
      " [1.0002344 ]]\n",
      "Member size after optimization 16\n",
      "Exterior column: ['W14X370', 'W14X550', 'W14X257']\n",
      "Interior column: ['W14X455', 'W14X665', 'W14X311']\n",
      "Beam: ['W27X178', 'W33X241', 'W30X116']\n",
      "Current story drifts: (%)\n",
      "[[1.07868475]\n",
      " [1.089     ]\n",
      " [1.0696884 ]]\n",
      "Member size after optimization 17\n",
      "Exterior column: ['W14X370', 'W14X550', 'W14X233']\n",
      "Interior column: ['W14X455', 'W14X665', 'W14X283']\n",
      "Beam: ['W27X178', 'W33X241', 'W27X114']\n",
      "Current story drifts: (%)\n",
      "[[1.0668812 ]\n",
      " [1.07987055]\n",
      " [1.1708444 ]]\n",
      "Member size after optimization 18\n",
      "Exterior column: ['W14X342', 'W14X550', 'W14X233']\n",
      "Interior column: ['W14X426', 'W14X665', 'W14X283']\n",
      "Beam: ['W33X152', 'W33X241', 'W27X114']\n",
      "Current story drifts: (%)\n",
      "[[1.0856967 ]\n",
      " [1.03754475]\n",
      " [1.17043905]]\n",
      "Member size after optimization 19\n",
      "Exterior column: ['W14X342', 'W14X500', 'W14X233']\n",
      "Interior column: ['W14X426', 'W14X605', 'W14X283']\n",
      "Beam: ['W33X152', 'W30X235', 'W27X114']\n",
      "Current story drifts: (%)\n",
      "[[1.0743469 ]\n",
      " [1.11439185]\n",
      " [1.1975128 ]]\n",
      "Member size after optimization 20\n",
      "Exterior column: ['W14X311', 'W14X500', 'W14X233']\n",
      "Interior column: ['W14X398', 'W14X605', 'W14X283']\n",
      "Beam: ['W30X148', 'W30X235', 'W27X114']\n",
      "Current story drifts: (%)\n",
      "[[1.17068105]\n",
      " [1.15620945]\n",
      " [1.16406235]]\n",
      "Member size after optimization 21\n",
      "Exterior column: ['W14X311', 'W14X455', 'W14X233']\n",
      "Interior column: ['W14X398', 'W14X550', 'W14X283']\n",
      "Beam: ['W30X148', 'W27X217', 'W27X114']\n",
      "Current story drifts: (%)\n",
      "[[1.162689  ]\n",
      " [1.2671725 ]\n",
      " [1.22418725]]\n",
      "Member size after optimization 22\n",
      "Exterior column: ['W14X283', 'W14X455', 'W14X233']\n",
      "Interior column: ['W14X370', 'W14X550', 'W14X283']\n",
      "Beam: ['W27X146', 'W27X217', 'W27X114']\n",
      "Current story drifts: (%)\n",
      "[[1.30749575]\n",
      " [1.35400815]\n",
      " [1.2404073 ]]\n",
      "Member size after optimization 23\n",
      "Exterior column: ['W14X283', 'W14X455', 'W14X193']\n",
      "Interior column: ['W14X370', 'W14X550', 'W14X257']\n",
      "Beam: ['W27X146', 'W27X217', 'W27X102']\n",
      "Current story drifts: (%)\n",
      "[[1.30825805]\n",
      " [1.35780755]\n",
      " [1.35651285]]\n",
      "Member size after optimization 24\n",
      "Exterior column: ['W14X283', 'W14X455', 'W14X193']\n",
      "Interior column: ['W14X342', 'W14X550', 'W14X257']\n",
      "Beam: ['W30X124', 'W27X217', 'W27X102']\n",
      "Current story drifts: (%)\n",
      "[[1.3914274 ]\n",
      " [1.39251035]\n",
      " [1.36276855]]\n",
      "Member size after optimization 25\n",
      "Exterior column: ['W14X283', 'W14X455', 'W14X176']\n",
      "Interior column: ['W14X342', 'W14X550', 'W14X233']\n",
      "Beam: ['W30X124', 'W27X217', 'W27X94']\n",
      "Current story drifts: (%)\n",
      "[[1.3920687]\n",
      " [1.3958318]\n",
      " [1.4722796]]\n",
      "Member size after optimization 26\n",
      "Exterior column: ['W14X257', 'W14X455', 'W14X176']\n",
      "Interior column: ['W14X311', 'W14X550', 'W14X233']\n",
      "Beam: ['W30X116', 'W27X217', 'W27X94']\n",
      "Current story drifts: (%)\n",
      "[[1.54217525]\n",
      " [1.45343385]\n",
      " [1.48322405]]\n",
      "Member size after optimization 27\n",
      "Exterior column: ['W14X257', 'W14X398', 'W14X176']\n",
      "Interior column: ['W14X311', 'W14X500', 'W14X233']\n",
      "Beam: ['W30X116', 'W27X194', 'W27X94']\n",
      "Current story drifts: (%)\n",
      "[[1.56287835]\n",
      " [1.56900095]\n",
      " [1.5318116 ]]\n",
      "Member size after optimization 28\n",
      "Exterior column: ['W14X257', 'W14X398', 'W14X159']\n",
      "Interior column: ['W14X311', 'W14X500', 'W14X211']\n",
      "Beam: ['W30X116', 'W27X194', 'W27X94']\n",
      "Current story drifts: (%)\n",
      "[[1.56304775]\n",
      " [1.5700234 ]\n",
      " [1.6183508 ]]\n",
      "Member size after optimization 29\n",
      "Exterior column: ['W14X233', 'W14X398', 'W14X159']\n",
      "Interior column: ['W14X283', 'W14X500', 'W14X211']\n",
      "Beam: ['W27X114', 'W27X194', 'W27X94']\n",
      "Current story drifts: (%)\n",
      "[[1.78632905]\n",
      " [1.6989489 ]\n",
      " [1.6417643 ]]\n",
      "Member size after optimization 30\n",
      "Exterior column: ['W14X233', 'W14X398', 'W14X145']\n",
      "Interior column: ['W14X283', 'W14X500', 'W14X193']\n",
      "Beam: ['W27X114', 'W27X194', 'W27X94']\n",
      "Current story drifts: (%)\n",
      "[[1.7865166 ]\n",
      " [1.69991085]\n",
      " [1.72378415]]\n",
      "Member size after optimization 31\n",
      "Exterior column: ['W14X233', 'W14X370', 'W14X145']\n",
      "Interior column: ['W14X283', 'W14X455', 'W14X193']\n",
      "Beam: ['W27X114', 'W27X178', 'W27X94']\n",
      "Current story drifts: (%)\n",
      "[[1.80896815]\n",
      " [1.81778905]\n",
      " [1.77392655]]\n",
      "Member size after optimization 32\n",
      "Exterior column: ['W14X233', 'W14X370', 'W14X132']\n",
      "Interior column: ['W14X283', 'W14X455', 'W14X176']\n",
      "Beam: ['W27X114', 'W27X178', 'W27X94']\n",
      "Current story drifts: (%)\n",
      "[[1.80923435]\n",
      " [1.81925315]\n",
      " [1.87480425]]\n",
      "Running time is: 123.48 seconds\n"
     ]
    }
   ],
   "source": [
    "# This file is the main file that calls function to perform seismic design\n",
    "# Users need to specify the system argument in this file.\n",
    "# Users also need to specify the variables in \"global_variables.py\"\n",
    "\n",
    "# The reason why I create this \"redundant\" file is to perform seismic\n",
    "# design for a bunch of buildings (not a single one)\n",
    "\n",
    "##########################################################################\n",
    "#                       Relevant Publications                            #\n",
    "##########################################################################\n",
    "\n",
    "# Add relevant publications below\n",
    "\n",
    "##########################################################################\n",
    "#                       Load Necessary Packages                          #\n",
    "##########################################################################\n",
    "\n",
    "import sys\n",
    "import time\n",
    "\n",
    "from seismic_design import seismic_design\n",
    "from global_variables import base_directory\n",
    "\n",
    "# Count the starting time of the main program\n",
    "start_time = time.time()\n",
    "\n",
    "# ********************* Revised for Using System Argument ****************\n",
    "# start_id = sys.argv[1]\n",
    "# end_id = sys.argv[2]\n",
    "# step_id = sys.argv[3]\n",
    "# for id in range(int(start_id), int(end_id), int(step_id)):\n",
    "#     building_id = 'Building_' + str(id)\n",
    "#     print(\"Design for building ID = \", building_id)\n",
    "#     seismic_design(building_id, base_directory)\n",
    "# ********************* Revision Ends Here *******************************\n",
    "\n",
    "# ********************* Single Building Case Ends Here *******************\n",
    "IDs = [0, 3]\n",
    "for id in IDs:\n",
    "    building_id = 'Building_' + str(id)\n",
    "    print(\"Design for Building ID = \", building_id)\n",
    "    seismic_design(building_id, base_directory)\n",
    "\n",
    "# ********************* Single Building Case Ends Here *******************\n",
    "\n",
    "end_time = time.time()\n",
    "\n",
    "print(\"Running time is: %s seconds\" % round(end_time - start_time, 2))"
   ]
  },
  {
   "cell_type": "markdown",
   "id": "a0c2b9fa-3cdc-4b18-925e-3c583d8429ab",
   "metadata": {},
   "source": [
    "### main_program.py "
   ]
  },
  {
   "cell_type": "code",
   "execution_count": 2,
   "id": "d3af50f2",
   "metadata": {
    "scrolled": true
   },
   "outputs": [
    {
     "name": "stdout",
     "output_type": "stream",
     "text": [
      "Design for Building ID =  0\n",
      "Member size after optimization 0\n",
      "Exterior column: ['W14X730', 'W14X730', 'W14X730']\n",
      "Interior column: ['W14X730', 'W14X730', 'W14X730']\n",
      "Beam: ['W33X263', 'W33X263', 'W33X263']\n",
      "Current story drifts: (%)\n",
      "[[0.69942235]\n",
      " [0.94686735]\n",
      " [0.6398601 ]]\n",
      "Member size after optimization 1\n",
      "Exterior column: ['W14X730', 'W14X730', 'W14X550']\n",
      "Interior column: ['W14X730', 'W14X730', 'W14X665']\n",
      "Beam: ['W33X263', 'W33X263', 'W33X241']\n",
      "Current story drifts: (%)\n",
      "[[0.69386845]\n",
      " [0.9453125 ]\n",
      " [0.69062565]]\n",
      "Member size after optimization 2\n",
      "Exterior column: ['W14X730', 'W14X730', 'W14X500']\n",
      "Interior column: ['W14X730', 'W14X730', 'W14X605']\n",
      "Beam: ['W33X263', 'W33X263', 'W30X235']\n",
      "Current story drifts: (%)\n",
      "[[0.68764905]\n",
      " [0.9421544 ]\n",
      " [0.7482398 ]]\n",
      "Member size after optimization 3\n",
      "Exterior column: ['W14X550', 'W14X730', 'W14X500']\n",
      "Interior column: ['W14X665', 'W14X730', 'W14X605']\n",
      "Beam: ['W33X241', 'W33X263', 'W30X235']\n",
      "Current story drifts: (%)\n",
      "[[0.78373515]\n",
      " [0.94754495]\n",
      " [0.7233743 ]]\n",
      "Member size after optimization 4\n",
      "Exterior column: ['W14X550', 'W14X730', 'W14X455']\n",
      "Interior column: ['W14X665', 'W14X730', 'W14X550']\n",
      "Beam: ['W33X241', 'W33X263', 'W27X217']\n",
      "Current story drifts: (%)\n",
      "[[0.7753196]\n",
      " [0.9434733]\n",
      " [0.7985395]]\n",
      "Member size after optimization 5\n",
      "Exterior column: ['W14X500', 'W14X730', 'W14X455']\n",
      "Interior column: ['W14X605', 'W14X730', 'W14X550']\n",
      "Beam: ['W30X235', 'W33X263', 'W27X217']\n",
      "Current story drifts: (%)\n",
      "[[0.85824695]\n",
      " [0.9695851 ]\n",
      " [0.77482955]]\n",
      "Member size after optimization 6\n",
      "Exterior column: ['W14X500', 'W14X730', 'W14X398']\n",
      "Interior column: ['W14X605', 'W14X730', 'W14X500']\n",
      "Beam: ['W30X235', 'W33X263', 'W27X194']\n",
      "Current story drifts: (%)\n",
      "[[0.85151935]\n",
      " [0.9651928 ]\n",
      " [0.83488185]]\n",
      "Member size after optimization 7\n",
      "Exterior column: ['W14X500', 'W14X730', 'W14X370']\n",
      "Interior column: ['W14X605', 'W14X730', 'W14X455']\n",
      "Beam: ['W30X235', 'W33X263', 'W27X178']\n",
      "Current story drifts: (%)\n",
      "[[0.84498535]\n",
      " [0.96047985]\n",
      " [0.89286505]]\n",
      "Member size after optimization 8\n",
      "Exterior column: ['W14X455', 'W14X730', 'W14X370']\n",
      "Interior column: ['W14X550', 'W14X730', 'W14X455']\n",
      "Beam: ['W27X217', 'W33X263', 'W27X178']\n",
      "Current story drifts: (%)\n",
      "[[0.9449616]\n",
      " [1.0067926]\n",
      " [0.8615684]]\n",
      "Member size after optimization 9\n",
      "Exterior column: ['W14X455', 'W14X730', 'W14X342']\n",
      "Interior column: ['W14X550', 'W14X730', 'W14X426']\n",
      "Beam: ['W27X217', 'W33X263', 'W33X152']\n",
      "Current story drifts: (%)\n",
      "[[0.94489505]\n",
      " [1.00516515]\n",
      " [0.8628873 ]]\n",
      "Member size after optimization 10\n",
      "Exterior column: ['W14X455', 'W14X730', 'W14X311']\n",
      "Interior column: ['W14X550', 'W14X730', 'W14X398']\n",
      "Beam: ['W27X217', 'W33X263', 'W30X148']\n",
      "Current story drifts: (%)\n",
      "[[0.93684855]\n",
      " [0.99976855]\n",
      " [0.9337691 ]]\n",
      "Member size after optimization 11\n",
      "Exterior column: ['W14X455', 'W14X730', 'W14X283']\n",
      "Interior column: ['W14X550', 'W14X730', 'W14X370']\n",
      "Beam: ['W27X217', 'W33X263', 'W27X146']\n",
      "Current story drifts: (%)\n",
      "[[0.92858425]\n",
      " [0.9935068 ]\n",
      " [1.0060908 ]]\n",
      "Member size after optimization 12\n",
      "Exterior column: ['W14X398', 'W14X730', 'W14X283']\n",
      "Interior column: ['W14X500', 'W14X730', 'W14X370']\n",
      "Beam: ['W27X194', 'W33X263', 'W27X146']\n",
      "Current story drifts: (%)\n",
      "[[1.0175495]\n",
      " [1.0121408]\n",
      " [0.9783697]]\n",
      "Member size after optimization 13\n",
      "Exterior column: ['W14X398', 'W14X730', 'W14X283']\n",
      "Interior column: ['W14X500', 'W14X730', 'W14X342']\n",
      "Beam: ['W27X194', 'W33X263', 'W30X124']\n",
      "Current story drifts: (%)\n",
      "[[1.01247355]\n",
      " [1.0084745 ]\n",
      " [1.0219297 ]]\n",
      "Member size after optimization 14\n",
      "Exterior column: ['W14X398', 'W14X550', 'W14X283']\n",
      "Interior column: ['W14X500', 'W14X665', 'W14X342']\n",
      "Beam: ['W27X194', 'W33X241', 'W30X124']\n",
      "Current story drifts: (%)\n",
      "[[1.0066958]\n",
      " [1.0773235]\n",
      " [1.0247611]]\n",
      "Member size after optimization 15\n",
      "Exterior column: ['W14X370', 'W14X550', 'W14X283']\n",
      "Interior column: ['W14X455', 'W14X665', 'W14X342']\n",
      "Beam: ['W27X178', 'W33X241', 'W30X124']\n",
      "Current story drifts: (%)\n",
      "[[1.08668285]\n",
      " [1.0955219 ]\n",
      " [1.0002344 ]]\n",
      "Member size after optimization 16\n",
      "Exterior column: ['W14X370', 'W14X550', 'W14X257']\n",
      "Interior column: ['W14X455', 'W14X665', 'W14X311']\n",
      "Beam: ['W27X178', 'W33X241', 'W30X116']\n",
      "Current story drifts: (%)\n",
      "[[1.07868475]\n",
      " [1.089     ]\n",
      " [1.0696884 ]]\n",
      "Member size after optimization 17\n",
      "Exterior column: ['W14X370', 'W14X550', 'W14X233']\n",
      "Interior column: ['W14X455', 'W14X665', 'W14X283']\n",
      "Beam: ['W27X178', 'W33X241', 'W27X114']\n",
      "Current story drifts: (%)\n",
      "[[1.0668812 ]\n",
      " [1.07987055]\n",
      " [1.1708444 ]]\n",
      "Member size after optimization 18\n",
      "Exterior column: ['W14X342', 'W14X550', 'W14X233']\n",
      "Interior column: ['W14X426', 'W14X665', 'W14X283']\n",
      "Beam: ['W33X152', 'W33X241', 'W27X114']\n",
      "Current story drifts: (%)\n",
      "[[1.0856967 ]\n",
      " [1.03754475]\n",
      " [1.17043905]]\n",
      "Member size after optimization 19\n",
      "Exterior column: ['W14X342', 'W14X500', 'W14X233']\n",
      "Interior column: ['W14X426', 'W14X605', 'W14X283']\n",
      "Beam: ['W33X152', 'W30X235', 'W27X114']\n",
      "Current story drifts: (%)\n",
      "[[1.0743469 ]\n",
      " [1.11439185]\n",
      " [1.1975128 ]]\n",
      "Member size after optimization 20\n",
      "Exterior column: ['W14X311', 'W14X500', 'W14X233']\n",
      "Interior column: ['W14X398', 'W14X605', 'W14X283']\n",
      "Beam: ['W30X148', 'W30X235', 'W27X114']\n",
      "Current story drifts: (%)\n",
      "[[1.17068105]\n",
      " [1.15620945]\n",
      " [1.16406235]]\n",
      "Member size after optimization 21\n",
      "Exterior column: ['W14X311', 'W14X455', 'W14X233']\n",
      "Interior column: ['W14X398', 'W14X550', 'W14X283']\n",
      "Beam: ['W30X148', 'W27X217', 'W27X114']\n",
      "Current story drifts: (%)\n",
      "[[1.162689  ]\n",
      " [1.2671725 ]\n",
      " [1.22418725]]\n",
      "Member size after optimization 22\n",
      "Exterior column: ['W14X283', 'W14X455', 'W14X233']\n",
      "Interior column: ['W14X370', 'W14X550', 'W14X283']\n",
      "Beam: ['W27X146', 'W27X217', 'W27X114']\n",
      "Current story drifts: (%)\n",
      "[[1.30749575]\n",
      " [1.35400815]\n",
      " [1.2404073 ]]\n",
      "Member size after optimization 23\n",
      "Exterior column: ['W14X283', 'W14X455', 'W14X193']\n",
      "Interior column: ['W14X370', 'W14X550', 'W14X257']\n",
      "Beam: ['W27X146', 'W27X217', 'W27X102']\n",
      "Current story drifts: (%)\n",
      "[[1.30825805]\n",
      " [1.35780755]\n",
      " [1.35651285]]\n",
      "Member size after optimization 24\n",
      "Exterior column: ['W14X283', 'W14X455', 'W14X193']\n",
      "Interior column: ['W14X342', 'W14X550', 'W14X257']\n",
      "Beam: ['W30X124', 'W27X217', 'W27X102']\n",
      "Current story drifts: (%)\n",
      "[[1.3914274 ]\n",
      " [1.39251035]\n",
      " [1.36276855]]\n",
      "Member size after optimization 25\n",
      "Exterior column: ['W14X283', 'W14X455', 'W14X176']\n",
      "Interior column: ['W14X342', 'W14X550', 'W14X233']\n",
      "Beam: ['W30X124', 'W27X217', 'W27X94']\n",
      "Current story drifts: (%)\n",
      "[[1.3920687]\n",
      " [1.3958318]\n",
      " [1.4722796]]\n",
      "Member size after optimization 26\n",
      "Exterior column: ['W14X257', 'W14X455', 'W14X176']\n",
      "Interior column: ['W14X311', 'W14X550', 'W14X233']\n",
      "Beam: ['W30X116', 'W27X217', 'W27X94']\n",
      "Current story drifts: (%)\n",
      "[[1.54217525]\n",
      " [1.45343385]\n",
      " [1.48322405]]\n",
      "Member size after optimization 27\n",
      "Exterior column: ['W14X257', 'W14X398', 'W14X176']\n",
      "Interior column: ['W14X311', 'W14X500', 'W14X233']\n",
      "Beam: ['W30X116', 'W27X194', 'W27X94']\n",
      "Current story drifts: (%)\n",
      "[[1.56287835]\n",
      " [1.56900095]\n",
      " [1.5318116 ]]\n",
      "Member size after optimization 28\n",
      "Exterior column: ['W14X257', 'W14X398', 'W14X159']\n",
      "Interior column: ['W14X311', 'W14X500', 'W14X211']\n",
      "Beam: ['W30X116', 'W27X194', 'W27X94']\n",
      "Current story drifts: (%)\n",
      "[[1.56304775]\n",
      " [1.5700234 ]\n",
      " [1.6183508 ]]\n",
      "Member size after optimization 29\n",
      "Exterior column: ['W14X233', 'W14X398', 'W14X159']\n",
      "Interior column: ['W14X283', 'W14X500', 'W14X211']\n",
      "Beam: ['W27X114', 'W27X194', 'W27X94']\n",
      "Current story drifts: (%)\n",
      "[[1.78632905]\n",
      " [1.6989489 ]\n",
      " [1.6417643 ]]\n",
      "Member size after optimization 30\n",
      "Exterior column: ['W14X233', 'W14X398', 'W14X145']\n",
      "Interior column: ['W14X283', 'W14X500', 'W14X193']\n",
      "Beam: ['W27X114', 'W27X194', 'W27X94']\n",
      "Current story drifts: (%)\n",
      "[[1.7865166 ]\n",
      " [1.69991085]\n",
      " [1.72378415]]\n",
      "Member size after optimization 31\n",
      "Exterior column: ['W14X233', 'W14X370', 'W14X145']\n",
      "Interior column: ['W14X283', 'W14X455', 'W14X193']\n",
      "Beam: ['W27X114', 'W27X178', 'W27X94']\n",
      "Current story drifts: (%)\n",
      "[[1.80896815]\n",
      " [1.81778905]\n",
      " [1.77392655]]\n",
      "Member size after optimization 32\n",
      "Exterior column: ['W14X233', 'W14X370', 'W14X132']\n",
      "Interior column: ['W14X283', 'W14X455', 'W14X176']\n",
      "Beam: ['W27X114', 'W27X178', 'W27X94']\n",
      "Current story drifts: (%)\n",
      "[[1.80923435]\n",
      " [1.81925315]\n",
      " [1.87480425]]\n",
      "Model generation for Building ID =  0\n",
      "Eigen Value Analysis for Building ID =  0\n",
      "Pushover Analysis for Building ID =  0\n"
     ]
    },
    {
     "name": "stdout",
     "output_type": "stream",
     "text": [
      "The design, model construction, and analysis for Building ID = 0 has been accomplished.\n",
      "Running time is: 89.31 seconds\n"
     ]
    }
   ],
   "source": [
    "# This file is the main file that calls function to perform seismic design, nonlinear model generation and analysis\n",
    "\n",
    "##########################################################################\n",
    "#                       Relevant Publications                            #\n",
    "##########################################################################\n",
    "\n",
    "# Add relevant publications below\n",
    "# [1]. Guan, X., Burton, H., and Thomas, S. (2020).\n",
    "# “Python-based computational platform to automate seismic design,\n",
    "# nonlinear structural model construction and analysis of steel moment\n",
    "# resisting frames.” Engineering Structures. (Under Review)\n",
    "\n",
    "import sys\n",
    "import time\n",
    "import os\n",
    "import pickle\n",
    "\n",
    "from seismic_design import seismic_design\n",
    "from global_variables import base_directory\n",
    "\n",
    "from global_variables import base_directory\n",
    "from global_variables import SECTION_DATABASE\n",
    "from global_variables import COLUMN_DATABASE\n",
    "from global_variables import BEAM_DATABASE\n",
    "from model_generation import model_generation\n",
    "\n",
    "# Count the starting time of the main program\n",
    "start_time = time.time()\n",
    "\n",
    "# *********************** Design Starts Here *************************\n",
    "IDs = [0]\n",
    "for id in IDs:\n",
    "    building_id = 'Building_' + str(id)\n",
    "    print(\"Design for Building ID = \", id)\n",
    "    seismic_design(building_id, base_directory)\n",
    "    # ******************* Nonlinear Model Generation Starts Here ******\n",
    "    print(\"Model generation for Building ID = \", id)\n",
    "    model_generation(building_id, base_directory)\n",
    "    # ******************* Perform Eigen Value Analysis ****************\n",
    "    print(\"Eigen Value Analysis for Building ID = \", id)\n",
    "    analysis_type = 'EigenValueAnalysis'\n",
    "    target_model = base_directory / 'BuildingNonlinearModels' / building_id / analysis_type\n",
    "    os.chdir(target_model)\n",
    "    os.system('OpenSees Model.tcl')\n",
    "    # ******************* Perform Nonlinear Pushover Analysis *********\n",
    "    print(\"Pushover Analysis for Building ID = \", id)\n",
    "    analysis_type = 'PushoverAnalysis'\n",
    "    target_model = base_directory / 'BuildingNonlinearModels' / building_id / analysis_type\n",
    "    os.chdir(target_model)\n",
    "    os.system('OpenSees Model.tcl')\n",
    "\n",
    "print(\"The design, model construction, and analysis for Building ID = %i has been accomplished.\" % id)\n",
    "\n",
    "end_time = time.time()\n",
    "print(\"Running time is: %s seconds\" % round(end_time - start_time, 2))"
   ]
  },
  {
   "cell_type": "markdown",
   "id": "6e28820f",
   "metadata": {},
   "source": [
    "## Function Test"
   ]
  },
  {
   "cell_type": "markdown",
   "id": "20a278a1",
   "metadata": {},
   "source": [
    "### building_information.py\n",
    "\n",
    "https://github.com/shishitao/AutoSDAPlatform/blob/master/building_information.py\n",
    "\n",
    "```python\n",
    "class Building(object):\n",
    "    \"\"\"\n",
    "    This class aims to read all the relevant building information from .csv files\n",
    "    It includes the following methods:\n",
    "    (1) Define paths to different folders which will be used later\n",
    "    (2) Read geometry information\n",
    "    (3) Read load information\n",
    "    (4) Read equivalent lateral force parameters\n",
    "    (5) Compute lateral force for the building based on ASCE 7-10\n",
    "    (6) Determine possible section sizes for columns and beams based on user-specified section depth\n",
    "    (7) Propose initial beam and column sizes\n",
    "    \"\"\"\n",
    "```"
   ]
  },
  {
   "cell_type": "code",
   "execution_count": 3,
   "id": "d6d4b242",
   "metadata": {
    "scrolled": true
   },
   "outputs": [],
   "source": [
    "building_id = 'Building_0'\n",
    "from global_variables import base_directory\n",
    "\n",
    "from building_information import Building\n",
    "building_1 = Building(building_id, base_directory)"
   ]
  },
  {
   "cell_type": "markdown",
   "id": "f79fc1bc",
   "metadata": {},
   "source": [
    "#### __init__\n",
    "```python\n",
    "def __init__(self, building_id, base_directory):\n",
    "    \"\"\"\n",
    "    This function initializes the attributes of a building instance\n",
    "    :param building_id: a string that used as a UID to label the building\n",
    "    :param base_directory:  a string that denotes the path to root folder\n",
    "    \"\"\"\n",
    "    # Assign basic information: unique ID for the building and base path\n",
    "    self.UID = building_id\n",
    "    self.base_directory = base_directory\n",
    "\n",
    "    # Initialize the attributes for the building instance (will be assigned values in the class methods)\n",
    "    self.directory = {}\n",
    "    self.geometry = {}\n",
    "    self.gravity_loads = {}\n",
    "    self.elf_parameters = {}\n",
    "    self.seismic_force_for_strength = {}\n",
    "    self.seismic_force_for_drift = {}\n",
    "    self.section_depth = {}\n",
    "    self.element_candidate = {}\n",
    "    self.member_size = {}\n",
    "    self.elastic_response = {}\n",
    "    self.construction_size = {}\n",
    "\n",
    "    # Call defined methods to achieve the goal of the class\n",
    "    self.define_directory()\n",
    "    self.read_geometry()\n",
    "    self.read_gravity_loads()\n",
    "    self.read_elf_parameters()\n",
    "    # self.compute_seismic_force()\n",
    "    self.determine_member_candidate()\n",
    "    self.initialize_member()\n",
    "    # self.initialize_member_v2()\n",
    "```"
   ]
  },
  {
   "cell_type": "code",
   "execution_count": 4,
   "id": "24654e6f",
   "metadata": {
    "scrolled": true
   },
   "outputs": [
    {
     "data": {
      "text/plain": [
       "'Building_0'"
      ]
     },
     "execution_count": 4,
     "metadata": {},
     "output_type": "execute_result"
    }
   ],
   "source": [
    "building_1.UID"
   ]
  },
  {
   "cell_type": "code",
   "execution_count": 5,
   "id": "548a7417",
   "metadata": {
    "scrolled": true
   },
   "outputs": [
    {
     "data": {
      "text/plain": [
       "WindowsPath('G:/My Drive/Reference/GitHub/AutoSDAPlatform')"
      ]
     },
     "execution_count": 5,
     "metadata": {},
     "output_type": "execute_result"
    }
   ],
   "source": [
    "building_1.base_directory"
   ]
  },
  {
   "cell_type": "markdown",
   "id": "1845a952",
   "metadata": {},
   "source": [
    "#### define directory\n",
    "(1) Define paths to different folders which will be used later\n",
    "\n",
    "```python\n",
    "def define_directory(self):\n",
    "    # Define all useful paths based on the building UID and path to root folder\n",
    "    # Define path to folder where the baseline .tcl files for elastic analysis are saved\n",
    "    baseline_elastic_directory = self.base_directory / 'BaselineTclFiles' / 'ElasticAnalysis'\n",
    "    # Define path to folder where the baseline .tcl files for nonlinear analysis are stored\n",
    "    baseline_nonlinear_directory = self.base_directory / 'BaselineTclFiles' / 'NonlinearAnalysis'\n",
    "    # Define path to folder where the building data (.csv) are saved\n",
    "    building_data_directory = self.base_directory / 'BuildingData' / self.UID\n",
    "    # Define path to folder where the generated elastic analysis OpenSees model is saved\n",
    "    building_elastic_model_directory = self.base_directory / 'BuildingElasticModels' / self.UID\n",
    "    # Define path to folder where the generated nonlinear analysis OpenSees model is saved\n",
    "    building_nonlinear_model_directory = self.base_directory / 'BuildingNonlinearModels' / self.UID\n",
    "    # Store all necessary directories into a dictionary\n",
    "    self.directory = {'baseline files elastic': baseline_elastic_directory,\n",
    "                      'baseline files nonlinear': baseline_nonlinear_directory,\n",
    "                      'building data': building_data_directory,\n",
    "                      'building elastic model': building_elastic_model_directory,\n",
    "                      'building nonlinear model': building_nonlinear_model_directory}\n",
    "```"
   ]
  },
  {
   "cell_type": "code",
   "execution_count": 6,
   "id": "3195efe5",
   "metadata": {
    "scrolled": true
   },
   "outputs": [
    {
     "data": {
      "text/plain": [
       "{'baseline files elastic': WindowsPath('G:/My Drive/Reference/GitHub/AutoSDAPlatform/BaselineTclFiles/ElasticAnalysis'),\n",
       " 'baseline files nonlinear': WindowsPath('G:/My Drive/Reference/GitHub/AutoSDAPlatform/BaselineTclFiles/NonlinearAnalysis'),\n",
       " 'building data': WindowsPath('G:/My Drive/Reference/GitHub/AutoSDAPlatform/BuildingData/Building_0'),\n",
       " 'building elastic model': WindowsPath('G:/My Drive/Reference/GitHub/AutoSDAPlatform/BuildingElasticModels/Building_0'),\n",
       " 'building nonlinear model': WindowsPath('G:/My Drive/Reference/GitHub/AutoSDAPlatform/BuildingNonlinearModels/Building_0')}"
      ]
     },
     "execution_count": 6,
     "metadata": {},
     "output_type": "execute_result"
    }
   ],
   "source": [
    "building_1.directory"
   ]
  },
  {
   "cell_type": "code",
   "execution_count": 7,
   "id": "206efe94",
   "metadata": {
    "scrolled": true
   },
   "outputs": [
    {
     "data": {
      "text/plain": [
       "WindowsPath('G:/My Drive/Reference/GitHub/AutoSDAPlatform/BaselineTclFiles/ElasticAnalysis')"
      ]
     },
     "execution_count": 7,
     "metadata": {},
     "output_type": "execute_result"
    }
   ],
   "source": [
    "building_1.directory['baseline files elastic']"
   ]
  },
  {
   "cell_type": "code",
   "execution_count": 8,
   "id": "f3e1d740",
   "metadata": {
    "scrolled": true
   },
   "outputs": [
    {
     "data": {
      "text/plain": [
       "WindowsPath('G:/My Drive/Reference/GitHub/AutoSDAPlatform/BaselineTclFiles/NonlinearAnalysis')"
      ]
     },
     "execution_count": 8,
     "metadata": {},
     "output_type": "execute_result"
    }
   ],
   "source": [
    "building_1.directory['baseline files nonlinear']"
   ]
  },
  {
   "cell_type": "markdown",
   "id": "df5c47c8",
   "metadata": {},
   "source": [
    "#### read_geometry\n",
    "\n",
    "```python\n",
    "def read_geometry(self):\n",
    "    \"\"\"\n",
    "    This method is used to read the building geometry information from .csv files:\n",
    "    (1) Change the working directory to the folder where .csv data are stored\n",
    "    (2) Open the .csv file and save all relevant information to the object itself\n",
    "    \"\"\"\n",
    "    os.chdir(self.directory['building data'])\n",
    "    with open('Geometry.csv', 'r') as csvfile:\n",
    "        geometry_data = pd.read_csv(csvfile, header=0)\n",
    "    # Each variable is a scalar\n",
    "    number_of_story = geometry_data.loc[0, 'number of story']\n",
    "    number_of_X_bay = geometry_data.loc[0, 'number of X bay']\n",
    "    number_of_Z_bay = geometry_data.loc[0, 'number of Z bay']\n",
    "    first_story_height = geometry_data.loc[0, 'first story height']\n",
    "    typical_story_height = geometry_data.loc[0, 'typical story height']\n",
    "    X_bay_width = geometry_data.loc[0, 'X bay width']\n",
    "    Z_bay_width = geometry_data.loc[0, 'Z bay width']\n",
    "    number_of_X_LFRS = geometry_data.loc[0, 'number of X LFRS']  # number of lateral resisting frame in X direction\n",
    "    number_of_Z_LFRS = geometry_data.loc[0, 'number of Z LFRS']  # number of lateral resisting frame in Z direction\n",
    "    # Call function defined in \"help_functions.py\" to determine the height for each floor level\n",
    "    floor_height = determine_floor_height(number_of_story, first_story_height, typical_story_height)\n",
    "    # Store all necessary information into a dictionary named geometry\n",
    "    self.geometry = {'number of story': number_of_story,\n",
    "                     'number of X bay': number_of_X_bay,\n",
    "                     'number of Z bay': number_of_Z_bay,\n",
    "                     'first story height': first_story_height,\n",
    "                     'typical story height': typical_story_height,\n",
    "                     'X bay width': X_bay_width,\n",
    "                     'Z bay width': Z_bay_width,\n",
    "                     'number of X LFRS': number_of_X_LFRS,\n",
    "                     'number of Z LFRS': number_of_Z_LFRS,\n",
    "                     'floor height': floor_height}\n",
    "```"
   ]
  },
  {
   "cell_type": "code",
   "execution_count": 9,
   "id": "ab97be7f",
   "metadata": {
    "scrolled": true
   },
   "outputs": [
    {
     "data": {
      "text/plain": [
       "{'number of story': 3,\n",
       " 'number of X bay': 4,\n",
       " 'number of Z bay': 4,\n",
       " 'first story height': 13,\n",
       " 'typical story height': 13,\n",
       " 'X bay width': 30,\n",
       " 'Z bay width': 30,\n",
       " 'number of X LFRS': 2,\n",
       " 'number of Z LFRS': 2,\n",
       " 'floor height': array([[ 0.],\n",
       "        [13.],\n",
       "        [26.],\n",
       "        [39.]])}"
      ]
     },
     "execution_count": 9,
     "metadata": {},
     "output_type": "execute_result"
    }
   ],
   "source": [
    "building_1.geometry"
   ]
  },
  {
   "cell_type": "code",
   "execution_count": 10,
   "id": "906ef8d3",
   "metadata": {},
   "outputs": [
    {
     "data": {
      "text/plain": [
       "array([[ 0.],\n",
       "       [13.],\n",
       "       [26.],\n",
       "       [39.]])"
      ]
     },
     "execution_count": 10,
     "metadata": {},
     "output_type": "execute_result"
    }
   ],
   "source": [
    "building_1.geometry['floor height']"
   ]
  },
  {
   "cell_type": "markdown",
   "id": "bca1c40a",
   "metadata": {},
   "source": [
    "#### read_gravity_loads\n",
    "\n",
    "```python\n",
    "def read_gravity_loads(self):\n",
    "    \"\"\"\n",
    "    This method is used to read the load information from .csv files\n",
    "    (1) Change the directory to the folder where the load data are stored\n",
    "    (2) Read the .csv files and assign save load values to object values\n",
    "    \"\"\"\n",
    "    os.chdir(self.directory['building data'])\n",
    "    with open('Loads.csv', 'r') as csvfile:\n",
    "        loads_data = pd.read_csv(csvfile, header=0)\n",
    "    # All data is a list (array). Length is the number of story\n",
    "    # Be cautious about the unit\n",
    "    floor_weight = loads_data['floor weight']\n",
    "    floor_dead_load = loads_data['floor dead load']\n",
    "    floor_live_load = loads_data['floor live load']\n",
    "    beam_dead_load = loads_data['beam dead load']\n",
    "    beam_live_load = loads_data['beam live load']\n",
    "    leaning_column_dead_load = loads_data['leaning column dead load']\n",
    "    leaning_column_live_load = loads_data['leaning column live load']\n",
    "    # Store all necessary information into a dictionary named gravity_loads\n",
    "    self.gravity_loads = {'floor weight': floor_weight,\n",
    "                          'floor dead load': floor_dead_load,\n",
    "                          'floor live load': floor_live_load,\n",
    "                          'beam dead load': beam_dead_load,\n",
    "                          'beam live load': beam_live_load,\n",
    "                          'leaning column dead load': leaning_column_dead_load,\n",
    "                          'leaning column live load': leaning_column_live_load}\n",
    "```"
   ]
  },
  {
   "cell_type": "code",
   "execution_count": 11,
   "id": "0780eab4",
   "metadata": {
    "scrolled": false
   },
   "outputs": [
    {
     "data": {
      "text/plain": [
       "{'floor weight': 0    2289\n",
       " 1    2289\n",
       " 2    2289\n",
       " Name: floor weight, dtype: int64,\n",
       " 'floor dead load': 0    106\n",
       " 1    106\n",
       " 2    106\n",
       " Name: floor dead load, dtype: int64,\n",
       " 'floor live load': 0    50\n",
       " 1    50\n",
       " 2    50\n",
       " Name: floor live load, dtype: int64,\n",
       " 'beam dead load': 0    1590\n",
       " 1    1590\n",
       " 2    1590\n",
       " Name: beam dead load, dtype: int64,\n",
       " 'beam live load': 0    750\n",
       " 1    750\n",
       " 2    750\n",
       " Name: beam live load, dtype: int64,\n",
       " 'leaning column dead load': 0    954\n",
       " 1    954\n",
       " 2    954\n",
       " Name: leaning column dead load, dtype: int64,\n",
       " 'leaning column live load': 0    450\n",
       " 1    450\n",
       " 2    450\n",
       " Name: leaning column live load, dtype: int64}"
      ]
     },
     "execution_count": 11,
     "metadata": {},
     "output_type": "execute_result"
    }
   ],
   "source": [
    "building_1.gravity_loads"
   ]
  },
  {
   "cell_type": "markdown",
   "id": "59b38c3a",
   "metadata": {},
   "source": [
    "#### read_elf_parameters\n",
    "\n",
    "```python\n",
    "def read_elf_parameters(self):\n",
    "    \"\"\"\n",
    "    This method is used to read equivalent lateral force (in short: elf) parameters and calculate SDS and SD1\n",
    "    (1) Read equivalent lateral force parameters\n",
    "    (2) Calculate SMS, SM1, SDS, SD1 values and save them into the attribute\n",
    "    \"\"\"\n",
    "    os.chdir(self.directory['building data'])\n",
    "    with open('ELFParameters.csv', 'r') as csvfile:\n",
    "        elf_parameters_data = pd.read_csv(csvfile, header=0)\n",
    "    # Determine Fa and Fv coefficient based on site class and Ss and S1 (ASCE 7-10 Table 11.4-1 & 11.4-2)\n",
    "    # Call function defined in \"help_functions.py\" to calculate two coefficients: Fa and Fv\n",
    "    Fa = determine_Fa_coefficient(elf_parameters_data.loc[0, 'site class'], elf_parameters_data.loc[0, 'Ss'])\n",
    "    Fv = determine_Fv_coefficient(elf_parameters_data.loc[0, 'site class'], elf_parameters_data.loc[0, 'S1'])\n",
    "    # Determine SMS, SM1, SDS, SD1 using the defined function in \"help_functions.py\"\n",
    "    SMS, SM1, SDS, SD1 = calculate_DBE_acceleration(elf_parameters_data.loc[0, 'Ss'],\n",
    "                                                    elf_parameters_data.loc[0, 'S1'], Fa, Fv)\n",
    "    # Determine Cu using the defined function in \"help_functions.py\"\n",
    "    Cu = determine_Cu_coefficient(SD1)\n",
    "    # Calculate the building period: approximate fundamental period and upper bound period\n",
    "    approximate_period = elf_parameters_data.loc[0, 'Ct'] \\\n",
    "                         * (self.geometry['floor height'][-1]**elf_parameters_data.loc[0, 'x'])\n",
    "    upper_period = Cu * approximate_period\n",
    "    # Save all coefficient into the dictionary named elf_parameters\n",
    "    self.elf_parameters = {'Ss': elf_parameters_data.loc[0, 'Ss'], 'S1': elf_parameters_data.loc[0, 'S1'],\n",
    "                           'TL': elf_parameters_data.loc[0, 'TL'], 'Cd': elf_parameters_data.loc[0, 'Cd'],\n",
    "                           'R': elf_parameters_data.loc[0, 'R'], 'Ie': elf_parameters_data.loc[0, 'Ie'],\n",
    "                           'rho': elf_parameters_data.loc[0, 'rho'],\n",
    "                           'site class': elf_parameters_data.loc[0, 'site class'],\n",
    "                           'Ct': elf_parameters_data.loc[0, 'Ct'], 'x': elf_parameters_data.loc[0, 'x'],\n",
    "                           'Fa': Fa, 'Fv': Fv, 'SMS': SMS, 'SM1': SM1, 'SDS': SDS, 'SD1': SD1, 'Cu': Cu,\n",
    "                           'approximate period': approximate_period, 'period': upper_period}\n",
    "```"
   ]
  },
  {
   "cell_type": "code",
   "execution_count": 12,
   "id": "924eed36",
   "metadata": {
    "scrolled": false
   },
   "outputs": [
    {
     "data": {
      "text/plain": [
       "{'Ss': 2.25,\n",
       " 'S1': 0.6,\n",
       " 'TL': 8,\n",
       " 'Cd': 5.5,\n",
       " 'R': 8,\n",
       " 'Ie': 1,\n",
       " 'rho': 1,\n",
       " 'site class': 'D',\n",
       " 'Ct': 0.027999999999999997,\n",
       " 'x': 0.8,\n",
       " 'Fa': 1.0,\n",
       " 'Fv': 1.5,\n",
       " 'SMS': 2.25,\n",
       " 'SM1': 0.8999999999999999,\n",
       " 'SDS': 1.5,\n",
       " 'SD1': 0.5999999999999999,\n",
       " 'Cu': 1.4,\n",
       " 'approximate period': array([0.5248192]),\n",
       " 'period': array([0.73474688])}"
      ]
     },
     "execution_count": 12,
     "metadata": {},
     "output_type": "execute_result"
    }
   ],
   "source": [
    "building_1.elf_parameters"
   ]
  },
  {
   "cell_type": "markdown",
   "id": "e7f80b2a",
   "metadata": {},
   "source": [
    "#### compute_seismic_force\n",
    "\n",
    "```python\n",
    "def compute_seismic_force(self):\n",
    "    \"\"\"\n",
    "    This method is used to calculate the seismic story force using ELF procedure specified in ASCE 7-10 Section 12.8\n",
    "    (1) Determine the floor level height and save it in a list (array)\n",
    "    (2) Determine the correct period between first mode period and CuTa\n",
    "    (3) Determine the Cs coefficient\n",
    "    (4) Determine the lateral force at each floor level (ground to roof) and save it in an arrary\n",
    "    \"\"\"\n",
    "    # Please note that the period for computing the required strength should be bounded by CuTa\n",
    "    period_for_strength = min(self.elf_parameters['modal period'], self.elf_parameters['period'])\n",
    "    # The period used for computing story drift is not required to be bounded by CuTa\n",
    "    if PERIOD_FOR_DRIFT_LIMIT:\n",
    "        period_for_drift = min(self.elf_parameters['modal period'], self.elf_parameters['period'])\n",
    "    else:\n",
    "        period_for_drift = self.elf_parameters['modal period']\n",
    "    # Call function defined in \"help_functions.py\" to determine the seismic response coefficient\n",
    "    Cs_for_strength = calculate_Cs_coefficient(self.elf_parameters['SDS'], self.elf_parameters['SD1'],\n",
    "                                               self.elf_parameters['S1'], period_for_strength,\n",
    "                                               self.elf_parameters['TL'], self.elf_parameters['R'],\n",
    "                                               self.elf_parameters['Ie'], False)\n",
    "    Cs_for_drift = calculate_Cs_coefficient(self.elf_parameters['SDS'], self.elf_parameters['SD1'],\n",
    "                                            self.elf_parameters['S1'], period_for_drift,\n",
    "                                            self.elf_parameters['TL'], self.elf_parameters['R'],\n",
    "                                            self.elf_parameters['Ie'], True)\n",
    "    # Calculate the base shear\n",
    "    base_shear_for_strength = Cs_for_strength * np.sum(self.gravity_loads['floor weight'])\n",
    "    base_shear_for_drift = Cs_for_drift * np.sum(self.gravity_loads['floor weight'])\n",
    "    # Call function defined in \"help_functions.py\" to compute k coefficient\n",
    "    k = determine_k_coeficient(self.elf_parameters['period'])\n",
    "    # Call function defined in \"help_functions.py\" to determine the lateral force for each floor level\n",
    "    lateral_story_force_for_strength, story_shear_for_strength \\\n",
    "        = calculate_seismic_force(base_shear_for_strength, self.gravity_loads['floor weight'], \\\n",
    "                                  self.geometry['floor height'], k)\n",
    "    lateral_story_force_for_drift, story_shear_for_drift \\\n",
    "        = calculate_seismic_force(base_shear_for_drift, self.gravity_loads['floor weight'], \\\n",
    "                                  self.geometry['floor height'], k)\n",
    "    # Store information into class attribute\n",
    "    self.seismic_force_for_strength = {'lateral story force': lateral_story_force_for_strength, \\\n",
    "                                       'story shear': story_shear_for_strength, \\\n",
    "                                       'base shear': base_shear_for_strength, 'Cs': Cs_for_strength}\n",
    "    self.seismic_force_for_drift = {'lateral story force': lateral_story_force_for_drift, \\\n",
    "                                       'story shear': story_shear_for_drift, \\\n",
    "                                       'base shear': base_shear_for_drift, 'Cs': Cs_for_drift}\n",
    "```"
   ]
  },
  {
   "cell_type": "code",
   "execution_count": 13,
   "id": "a8e250b7",
   "metadata": {
    "scrolled": true
   },
   "outputs": [
    {
     "data": {
      "text/plain": [
       "{}"
      ]
     },
     "execution_count": 13,
     "metadata": {},
     "output_type": "execute_result"
    }
   ],
   "source": [
    "building_1.seismic_force_for_strength "
   ]
  },
  {
   "cell_type": "code",
   "execution_count": 14,
   "id": "7847dd25",
   "metadata": {
    "scrolled": false
   },
   "outputs": [
    {
     "data": {
      "text/plain": [
       "{}"
      ]
     },
     "execution_count": 14,
     "metadata": {},
     "output_type": "execute_result"
    }
   ],
   "source": [
    "building_1.seismic_force_for_drift  "
   ]
  },
  {
   "cell_type": "code",
   "execution_count": 15,
   "id": "69a09ae8",
   "metadata": {},
   "outputs": [],
   "source": [
    "# why this function was commented?"
   ]
  },
  {
   "cell_type": "markdown",
   "id": "43219938",
   "metadata": {},
   "source": [
    "#### determine_member_candidate\n",
    "\n",
    "```python\n",
    "def determine_member_candidate(self):\n",
    "    \"\"\"\n",
    "    This method is used to determine all possible member candidates based on the user-specified section depth\n",
    "    :return: a dictionary which contains the all possible sizes for exterior columns, interior columns, and beams.\n",
    "    \"\"\"\n",
    "    # Read the user-specified depths for interior columns, exterior columns, and beams.\n",
    "    os.chdir(self.directory['building data'])\n",
    "    with open('MemberDepth.csv', 'r') as csvfile:\n",
    "        depth_data = pd.read_csv(csvfile, header=0)\n",
    "    # Initialize dictionary that will be used to store all possible section sizes for each member (in each story)\n",
    "    interior_column_candidate = {}\n",
    "    exterior_column_candidate = {}\n",
    "    beam_candidate = {}\n",
    "    # Initialize list that will be used to store section depth for each member (in each story)\n",
    "    interior_column_depth = []\n",
    "    exterior_column_depth = []\n",
    "    beam_depth = []\n",
    "    for story in range(0, self.geometry['number of story']):  # story number\n",
    "        # Initialize the Series that will be used to store the member sizes for each single story\n",
    "        temp_interior_column = pd.Series()\n",
    "        temp_exterior_column = pd.Series()\n",
    "        temp_beam = pd.Series()\n",
    "        # Convert string (read from csv) to list\n",
    "        interior_column_depth_list = depth_data.loc[story, 'interior column'].split(', ')\n",
    "        exterior_column_depth_list = depth_data.loc[story, 'exterior column'].split(', ')\n",
    "        beam_depth_list = depth_data.loc[story, 'beam'].split(', ')\n",
    "        # Find the section size candidates associated with a certain depth specified by user\n",
    "        for item in range(0, len(interior_column_depth_list)):\n",
    "            temp1 = find_section_candidate(interior_column_depth_list[item], COLUMN_DATABASE)\n",
    "            temp_interior_column = pd.concat([temp_interior_column, temp1])\n",
    "        for item in range(0, len(exterior_column_depth_list)):\n",
    "            temp2 = find_section_candidate(exterior_column_depth_list[item], COLUMN_DATABASE)\n",
    "            temp_exterior_column = pd.concat([temp_exterior_column, temp2])\n",
    "        for item in range(0, len(beam_depth_list)):\n",
    "            temp3 = find_section_candidate(beam_depth_list[item], BEAM_DATABASE)\n",
    "            temp_beam = pd.concat([temp_beam, temp3])\n",
    "        # Store the section size candidates for each member per story in a dictionary\n",
    "        # Re-order the Series based on the index (which is further based on descending order of Ix for column\n",
    "        # and Zx for beam). Convert Series to list.\n",
    "        interior_column_candidate['story %s' % (story+1)] = list(temp_interior_column.sort_index())\n",
    "        exterior_column_candidate['story %s' % (story+1)] = list(temp_exterior_column.sort_index())\n",
    "        beam_candidate['floor level %s' % (story+2)] = list(temp_beam.sort_index())\n",
    "        # Store the section depth for each member in each story\n",
    "        interior_column_depth.append(interior_column_depth_list)\n",
    "        exterior_column_depth.append(exterior_column_depth_list)\n",
    "        beam_depth.append(beam_depth_list)\n",
    "    # Summarize all the section candidates to a dictionary\n",
    "    self.element_candidate = {'interior column': interior_column_candidate,\n",
    "                              'exterior column': exterior_column_candidate,\n",
    "                              'beam': beam_candidate}\n",
    "    # Summarize all the section depth to a dictionary\n",
    "    self.section_depth = {'interior column': interior_column_depth,\n",
    "                          'exterior column': exterior_column_depth,\n",
    "                          'beam': beam_depth}\n",
    "```"
   ]
  },
  {
   "cell_type": "code",
   "execution_count": 16,
   "id": "dbb18e6e",
   "metadata": {
    "scrolled": true
   },
   "outputs": [
    {
     "data": {
      "text/plain": [
       "{'interior column': [['W14'], ['W14'], ['W14']],\n",
       " 'exterior column': [['W14'], ['W14'], ['W14']],\n",
       " 'beam': [['W27', 'W30', 'W33'], ['W27', 'W30', 'W33'], ['W27', 'W30', 'W33']]}"
      ]
     },
     "execution_count": 16,
     "metadata": {},
     "output_type": "execute_result"
    }
   ],
   "source": [
    "building_1.section_depth"
   ]
  },
  {
   "cell_type": "markdown",
   "id": "ec829f50",
   "metadata": {},
   "source": [
    "#### initialize_member\n",
    "\n",
    "```python\n",
    "def initialize_member(self):\n",
    "    \"\"\"\n",
    "    This method is used to initialize the member size\n",
    "    :return: a dictionary which includes the initial size for interior columns, exterior columns, and beams\n",
    "    \"\"\"\n",
    "    # Define initial sizes for columns and beams\n",
    "    interior_column = []\n",
    "    exterior_column = []\n",
    "    beam = []\n",
    "    for story in range(0, self.geometry['number of story']):\n",
    "        # The initial column is selected as the greatest sizes in the candidate pool\n",
    "        initial_interior = self.element_candidate['interior column']['story %s' % (story+1)][0]\n",
    "        initial_exterior = self.element_candidate['exterior column']['story %s' % (story+1)][0]\n",
    "        # Merge initial size of each story together\n",
    "        interior_column.append(initial_interior)\n",
    "        exterior_column.append(initial_exterior)\n",
    "        # Compute the section property of the interior column size\n",
    "        reference_property = search_section_property(initial_interior, SECTION_DATABASE)\n",
    "        # Determine the beam size based on beam-to-column section modulus ratio\n",
    "        beam_size = search_member_size('Zx', reference_property['Zx']*BEAM_TO_COLUMN_RATIO,\n",
    "                                       self.element_candidate['beam']['floor level %s' % (story+2)],\n",
    "                                       SECTION_DATABASE)\n",
    "        # Merge initial beam size of each story together\n",
    "        beam.append(beam_size)\n",
    "    # Store all initial member sizes into the dictionary (which will be updated using optimization algorithm later)\n",
    "    self.member_size = {'interior column': interior_column,\n",
    "                        'exterior column': exterior_column,\n",
    "                        'beam': beam}\n",
    "```"
   ]
  },
  {
   "cell_type": "code",
   "execution_count": 26,
   "id": "b997e128",
   "metadata": {
    "scrolled": false
   },
   "outputs": [
    {
     "data": {
      "text/plain": [
       "{'interior column': ['W14X730', 'W14X730', 'W14X730'],\n",
       " 'exterior column': ['W14X730', 'W14X730', 'W14X730'],\n",
       " 'beam': ['W33X263', 'W33X263', 'W33X263']}"
      ]
     },
     "execution_count": 26,
     "metadata": {},
     "output_type": "execute_result"
    }
   ],
   "source": [
    "building_1.member_size"
   ]
  },
  {
   "cell_type": "markdown",
   "id": "c9eafde1",
   "metadata": {},
   "source": [
    "#### read_modal_period\n",
    "\n",
    "```python\n",
    "def read_modal_period(self):\n",
    "    \"\"\"\n",
    "    This method is used to read the modal period from OpenSees eigen value analysis results and store it in ELF\n",
    "    parameters.\n",
    "    :return: the first mode period stored in self.elf_parameters\n",
    "    \"\"\"\n",
    "    # Change the working directory to the folder where the eigen value analysis results are stored\n",
    "    path_modal_period = self.directory['building elastic model'] / 'EigenAnalysis'\n",
    "    os.chdir(path_modal_period)\n",
    "    # Save the first mode period in elf_parameters\n",
    "    # period = np.loadtxt('Periods.out')\n",
    "    period = pd.read_csv('Periods.out', header=None)\n",
    "    self.elf_parameters['modal period'] = np.asscalar((period.iloc[0, 0]))\n",
    "```"
   ]
  },
  {
   "cell_type": "code",
   "execution_count": 27,
   "id": "e15ef17b",
   "metadata": {},
   "outputs": [
    {
     "data": {
      "text/plain": [
       "{'Ss': 2.25,\n",
       " 'S1': 0.6,\n",
       " 'TL': 8,\n",
       " 'Cd': 5.5,\n",
       " 'R': 8,\n",
       " 'Ie': 1,\n",
       " 'rho': 1,\n",
       " 'site class': 'D',\n",
       " 'Ct': 0.027999999999999997,\n",
       " 'x': 0.8,\n",
       " 'Fa': 1.0,\n",
       " 'Fv': 1.5,\n",
       " 'SMS': 2.25,\n",
       " 'SM1': 0.8999999999999999,\n",
       " 'SDS': 1.5,\n",
       " 'SD1': 0.5999999999999999,\n",
       " 'Cu': 1.4,\n",
       " 'approximate period': array([0.5248192]),\n",
       " 'period': array([0.73474688])}"
      ]
     },
     "execution_count": 27,
     "metadata": {},
     "output_type": "execute_result"
    }
   ],
   "source": [
    "building_1.elf_parameters"
   ]
  },
  {
   "cell_type": "markdown",
   "id": "50f8fb08",
   "metadata": {},
   "source": [
    "#### read_story_drift\n",
    "\n",
    "```python\n",
    "def read_story_drift(self):\n",
    "    \"\"\"\n",
    "    This method is used to read the story drifts from OpenSees elastic analysis results and stored it as attribute\n",
    "    The load case for story drift is the combination of dead, live, and earthquake loads.\n",
    "    :return: an [story*1] array which includes the story drifts for each story.\n",
    "    \"\"\"\n",
    "    # Change the working directory to the folder where story drifts are stored\n",
    "    path_story_drift = self.directory['building elastic model'] / 'GravityEarthquake' / 'StoryDrifts'\n",
    "    os.chdir(path_story_drift)\n",
    "    # Save all story drifts in an array\n",
    "    story_drift = np.zeros([self.geometry['number of story'], 1])\n",
    "    for story in range(self.geometry['number of story']):\n",
    "        file_name = 'Story' + str(story+1) + '.out'\n",
    "        read_data = np.loadtxt(file_name)\n",
    "        story_drift[story] = read_data[-1, -1]\n",
    "    # Assign the story drifts results into class attribute\n",
    "    self.elastic_response = {'story drift': story_drift}\n",
    "```"
   ]
  },
  {
   "cell_type": "code",
   "execution_count": 28,
   "id": "fcc2f1d9",
   "metadata": {
    "scrolled": true
   },
   "outputs": [
    {
     "data": {
      "text/plain": [
       "{}"
      ]
     },
     "execution_count": 28,
     "metadata": {},
     "output_type": "execute_result"
    }
   ],
   "source": [
    "building_1.elastic_response"
   ]
  },
  {
   "cell_type": "code",
   "execution_count": 29,
   "id": "0f726999",
   "metadata": {},
   "outputs": [],
   "source": [
    "# no call"
   ]
  },
  {
   "cell_type": "markdown",
   "id": "9fa5bced",
   "metadata": {},
   "source": [
    "#### optimize_member_for_drift\n",
    "\n",
    "```python\n",
    "def optimize_member_for_drift(self):\n",
    "    \"\"\"\n",
    "    This method is used to decrease the member size such that the design is most economic.\n",
    "    :return: update self.member_size\n",
    "    \"\"\"\n",
    "    # Find the story which has the smallest drift\n",
    "    target_story = np.where(self.elastic_response['story drift'] ==\n",
    "                            np.min(self.elastic_response['story drift']))[0][0]\n",
    "    # Update the interior column size in target story\n",
    "    self.member_size['interior column'][target_story] = \\\n",
    "        decrease_member_size(self.element_candidate['interior column']['story %s' % (target_story+1)],\n",
    "                             self.member_size['interior column'][target_story])\n",
    "    # Compute the section property of the interior column size\n",
    "    reference_property = search_section_property(self.member_size['interior column'][target_story],\n",
    "                                                 SECTION_DATABASE)\n",
    "    # Determine the beam size based on beam-to-column section modulus ratio\n",
    "    beam_size = search_member_size('Zx', reference_property['Zx'] * BEAM_TO_COLUMN_RATIO,\n",
    "                                   self.element_candidate['beam']['floor level %s' %(target_story+2)],\n",
    "                                   SECTION_DATABASE)\n",
    "    # \"Push\" the updated beam size back to the class dictionary\n",
    "    self.member_size['beam'][target_story] = beam_size\n",
    "    # Determine the exterior column size based on exterior/interior column moment of inertia ratio\n",
    "    exterior_size = search_member_size('Ix', reference_property['Ix'] * EXTERIOR_INTERIOR_COLUMN_RATIO,\n",
    "                                       self.element_candidate['exterior column']['story %s' % (target_story+1)],\n",
    "                                       SECTION_DATABASE)\n",
    "    self.member_size['exterior column'][target_story] = exterior_size\n",
    "```"
   ]
  },
  {
   "cell_type": "code",
   "execution_count": 30,
   "id": "adbef625",
   "metadata": {
    "scrolled": true
   },
   "outputs": [
    {
     "data": {
      "text/plain": [
       "{'interior column': ['W14X730', 'W14X730', 'W14X730'],\n",
       " 'exterior column': ['W14X730', 'W14X730', 'W14X730'],\n",
       " 'beam': ['W33X263', 'W33X263', 'W33X263']}"
      ]
     },
     "execution_count": 30,
     "metadata": {},
     "output_type": "execute_result"
    }
   ],
   "source": [
    "building_1.member_size"
   ]
  },
  {
   "cell_type": "code",
   "execution_count": 35,
   "id": "38e99486",
   "metadata": {
    "scrolled": true
   },
   "outputs": [
    {
     "data": {
      "text/plain": [
       "['W14X730', 'W14X730', 'W14X730']"
      ]
     },
     "execution_count": 35,
     "metadata": {},
     "output_type": "execute_result"
    }
   ],
   "source": [
    "building_1.member_size['exterior column']"
   ]
  },
  {
   "cell_type": "markdown",
   "id": "13075ff0",
   "metadata": {},
   "source": [
    "#### upscale_column\n",
    "\n",
    "```python\n",
    "def upscale_column(self, target_story, type_column):\n",
    "    \"\"\"\n",
    "    This method is used to increase  column size which might be necessary when column strength is not sufficient\n",
    "    or strong column weak beam is not satisfied.\n",
    "    :param target_story: a scalar to denote which story column shall be increased (from 0 to total story # - 1).\n",
    "    :param type_column: a string denoting whether it is an exterior column or interior column\n",
    "    :return: update the column size stored in self.member_size\n",
    "    \"\"\"\n",
    "    temp_size = increase_member_size(self.element_candidate[type_column]['story %s' % (target_story+1)],\n",
    "                                     self.member_size[type_column][target_story])\n",
    "    self.member_size[type_column][target_story] = temp_size\n",
    "    # temp_size_2 = increase_member_size(self.element_candidate['exterior column']['story %x' % (target_story+1)],\n",
    "    #                                    self.member_size['exterior column'][target_story])\n",
    "    # self.member_size['exterior column'][target_story] = temp_size_2\n",
    "```"
   ]
  },
  {
   "cell_type": "code",
   "execution_count": 34,
   "id": "ace1af4c",
   "metadata": {
    "scrolled": true
   },
   "outputs": [
    {
     "data": {
      "text/plain": [
       "['W14X730', 'W14X730', 'W14X730']"
      ]
     },
     "execution_count": 34,
     "metadata": {},
     "output_type": "execute_result"
    }
   ],
   "source": [
    "building_1.member_size['interior column']"
   ]
  },
  {
   "cell_type": "code",
   "execution_count": 35,
   "id": "045954ba",
   "metadata": {
    "scrolled": true
   },
   "outputs": [
    {
     "data": {
      "text/plain": [
       "['W14X730', 'W14X730', 'W14X730']"
      ]
     },
     "execution_count": 35,
     "metadata": {},
     "output_type": "execute_result"
    }
   ],
   "source": [
    "building_1.member_size['exterior column']"
   ]
  },
  {
   "cell_type": "markdown",
   "id": "d5abd24f",
   "metadata": {},
   "source": [
    "#### upscale_beam\n",
    "\n",
    "```python\n",
    "def upscale_beam(self, target_floor):\n",
    "    \"\"\"\n",
    "    This method is used to increase beam size which might be necessary when beam strength is not sufficient\n",
    "    :param target_floor: a scalar to denote which floor beam shall be improved. (from 0 to total story # - 1)\n",
    "    :return: update the beam size stored in self.member_size\n",
    "    \"\"\"\n",
    "    temp_size = increase_member_size(self.element_candidate['beam']['floor level %s' % (target_floor+2)],\n",
    "                                     self.member_size['beam'][target_floor])\n",
    "    self.member_size['beam'][target_floor] = temp_size\n",
    "```"
   ]
  },
  {
   "cell_type": "code",
   "execution_count": 33,
   "id": "e190352c",
   "metadata": {
    "scrolled": true
   },
   "outputs": [
    {
     "data": {
      "text/plain": [
       "['W33X263', 'W33X263', 'W33X263']"
      ]
     },
     "execution_count": 33,
     "metadata": {},
     "output_type": "execute_result"
    }
   ],
   "source": [
    "building_1.member_size['beam']"
   ]
  },
  {
   "cell_type": "markdown",
   "id": "9bc2f9c6",
   "metadata": {},
   "source": [
    "#### constructability_beam\n",
    "\n",
    "```python\n",
    "def constructability_beam(self):\n",
    "    \"\"\"\n",
    "    This method is used to update the beam member size by considering the constructability (ease of construction).\n",
    "    :return: update the beam sizes stored in self.member_size['beam']\n",
    "    \"\"\"\n",
    "    # Make a deep copy of the member sizes and stored them in a new dictionary named construction_size\n",
    "    # Use deep copy to avoid changing the variables stored in member size\n",
    "    temp_size = copy.deepcopy(self.member_size)\n",
    "    # Update beam size (beam size is updated based on descending order of Zx)\n",
    "    self.construction_size['beam'] = constructability_helper(temp_size['beam'], IDENTICAL_SIZE_PER_STORY,\n",
    "                                                             self.geometry['number of story'], 'Ix')\n",
    "    # Column sizes here have not been updated (just directly copy)\n",
    "    self.construction_size['interior column'] = temp_size['interior column']\n",
    "    self.construction_size['exterior column'] = temp_size['exterior column']\n",
    "```"
   ]
  },
  {
   "cell_type": "code",
   "execution_count": 37,
   "id": "27efeb16",
   "metadata": {},
   "outputs": [
    {
     "data": {
      "text/plain": [
       "{}"
      ]
     },
     "execution_count": 37,
     "metadata": {},
     "output_type": "execute_result"
    }
   ],
   "source": [
    "building_1.construction_size"
   ]
  },
  {
   "cell_type": "code",
   "execution_count": 39,
   "id": "90153c92",
   "metadata": {
    "scrolled": false
   },
   "outputs": [
    {
     "ename": "KeyError",
     "evalue": "'beam'",
     "output_type": "error",
     "traceback": [
      "\u001b[1;31m---------------------------------------------------------------------------\u001b[0m",
      "\u001b[1;31mKeyError\u001b[0m                                  Traceback (most recent call last)",
      "\u001b[1;32m<ipython-input-39-b41531ea7024>\u001b[0m in \u001b[0;36m<module>\u001b[1;34m\u001b[0m\n\u001b[1;32m----> 1\u001b[1;33m \u001b[0mbuilding_1\u001b[0m\u001b[1;33m.\u001b[0m\u001b[0mconstruction_size\u001b[0m\u001b[1;33m[\u001b[0m\u001b[1;34m'beam'\u001b[0m\u001b[1;33m]\u001b[0m\u001b[1;33m\u001b[0m\u001b[1;33m\u001b[0m\u001b[0m\n\u001b[0m",
      "\u001b[1;31mKeyError\u001b[0m: 'beam'"
     ]
    }
   ],
   "source": [
    "building_1.construction_size['beam']"
   ]
  },
  {
   "cell_type": "markdown",
   "id": "972eb90f",
   "metadata": {},
   "source": [
    "#### constructability_column\n",
    "\n",
    "```python\n",
    "def constructability_column(self):\n",
    "    \"\"\"\n",
    "    This method is used to update the column member size by considering the constructability (ease of construction).\n",
    "    :return: update the column sizes stored in self.member_size\n",
    "    \"\"\"\n",
    "    # Make a copy of the member size\n",
    "    temp_size = copy.deepcopy(self.member_size)\n",
    "    # Update column sizes based on the sorted Ix\n",
    "    member_list = ['interior column', 'exterior column']\n",
    "    for mem in member_list:\n",
    "        self.construction_size[mem] = constructability_helper(temp_size[mem], IDENTICAL_SIZE_PER_STORY,\n",
    "                                                              self.geometry['number of story'], 'Ix')\n",
    "```"
   ]
  },
  {
   "cell_type": "code",
   "execution_count": 38,
   "id": "3528420a",
   "metadata": {
    "scrolled": false
   },
   "outputs": [
    {
     "ename": "KeyError",
     "evalue": "'interior column'",
     "output_type": "error",
     "traceback": [
      "\u001b[1;31m---------------------------------------------------------------------------\u001b[0m",
      "\u001b[1;31mKeyError\u001b[0m                                  Traceback (most recent call last)",
      "\u001b[1;32m<ipython-input-38-3290cfcbabca>\u001b[0m in \u001b[0;36m<module>\u001b[1;34m\u001b[0m\n\u001b[1;32m----> 1\u001b[1;33m \u001b[0mbuilding_1\u001b[0m\u001b[1;33m.\u001b[0m\u001b[0mconstruction_size\u001b[0m\u001b[1;33m[\u001b[0m\u001b[1;34m'interior column'\u001b[0m\u001b[1;33m]\u001b[0m\u001b[1;33m\u001b[0m\u001b[1;33m\u001b[0m\u001b[0m\n\u001b[0m",
      "\u001b[1;31mKeyError\u001b[0m: 'interior column'"
     ]
    }
   ],
   "source": [
    "building_1.construction_size['interior column']"
   ]
  },
  {
   "cell_type": "markdown",
   "id": "ebf441e7",
   "metadata": {},
   "source": [
    "### elastic_analysis.py\n",
    "\n",
    "https://github.com/shishitao/AutoSDAPlatform/blob/master/elastic_analysis.py\n",
    "\n",
    "```python\n",
    "####################################################################\n",
    "#              Generate OpenSees model (write .tcl files)             ####################################################################\n",
    "\n",
    "class ElasticAnalysis(object):\n",
    "    \"\"\"\n",
    "    This class generates the .tcl files required for elastic analysis. It includes .tcl files for the following modules:\n",
    "    (1) OpenSees nodes\n",
    "    (2) boundary condition\n",
    "    (3) floor constraint\n",
    "    (4) beam component\n",
    "    (5) column component\n",
    "    (6) leaning column spring\n",
    "    (7) mass\n",
    "    (8) all recorders\n",
    "    (9) story drift recorder\n",
    "    (10) node displacement recorder\n",
    "    (11) beam force recorder\n",
    "    (12) column force recorder\n",
    "    (13) gravity dead load\n",
    "    (14) gravity live load\n",
    "    (15) earthquake load\n",
    "    (16) gravity and earthquake loads combination\n",
    "    (17) copy baseline .tcl files\n",
    "    (18) run OpenSees.exe\n",
    "    \"\"\"\n",
    "```"
   ]
  },
  {
   "cell_type": "code",
   "execution_count": 41,
   "id": "fb41a336",
   "metadata": {},
   "outputs": [],
   "source": [
    "from elastic_analysis import ElasticAnalysis\n",
    "\n",
    "# Perform EigenValue Analysis only to obtain the period\n",
    "_ = ElasticAnalysis(building_1, for_drift_only=False, for_period_only=True)"
   ]
  },
  {
   "cell_type": "markdown",
   "id": "f4acfe1e",
   "metadata": {},
   "source": [
    "#### write_nodes\n",
    "\n",
    "```python\n",
    "def write_nodes(self, building):\n",
    "    # Create a .tcl file and write the node information\n",
    "    with open('DefineNodes2DModel.tcl', 'w') as tclfile:\n",
    "        tclfile.write(\"# This file will be used to define all nodes \\n\")  # Introduce the file usage\n",
    "        tclfile.write(\"# Units: inch \\n\\n\\n\")  # Explain the units\n",
    "        tclfile.write(\"# Set bay width and story height \\n\")\n",
    "        tclfile.write(\"set\\tBayWidth\\t[expr %.2f*12]; \\n\" % (building.geometry['X bay width']))\n",
    "        tclfile.write(\"set\\tFirstStory\\t[expr %.2f*12]; \\n\" % (building.geometry['first story height']))\n",
    "        tclfile.write(\"set\\tTypicalStory\\t[expr %.2f*12]; \\n\\n\\n\" % (building.geometry['typical story height']))\n",
    "        # Write the nodes at beam column intersection points\n",
    "        tclfile.write(\"# Define nodes at corner of frames \\n\")\n",
    "        for i in range(1, building.geometry['number of story']+2):  # i is floor level number\n",
    "            tclfile.write(\"# Level %i \\n\" % i)\n",
    "            for j in range(1, building.geometry['number of X bay']+2):  # j is column label\n",
    "                tclfile.write(\"node\\t%i%i%i\" % (j, i, 1))  # Node label\n",
    "                tclfile.write(\"\\t[expr %i*$BayWidth]\" % (j - 1))  # X coordinate\n",
    "                if i <= 2:\n",
    "                    tclfile.write(\"\\t[expr %i*$FirstStory];\" % (i - 1))  # Y coordinate\n",
    "                    tclfile.write(\"\\t # Column #%i \\n\" % j)  # Comments to explain the column label\n",
    "                else:\n",
    "                    tclfile.write(\"\\t[expr 1*FirstStory+TypicalStory];\" % (i - 2))\n",
    "                    tclfile.write(\"\\t # Column #%i \\n\" % j)\n",
    "            tclfile.write(\"\\n\")\n",
    "        tclfile.write(\"# puts \\\"Nodes at frame corner defined\\\" \\n\\n\")\n",
    "        # Write the nodes for leaning column\n",
    "        tclfile.write(\"# Define nodes for leaning column \\n\")\n",
    "        for i in range(1, building.geometry['number of story']+2):\n",
    "            tclfile.write(\"node\\t%i%i\" % (building.geometry['number of X bay']+2, i))  # Node label\n",
    "            tclfile.write(\"\\t[expr %i*$BayWidth]\" % (building.geometry['number of X bay']+1))  # X coordinate\n",
    "            if i <= 2:\n",
    "                tclfile.write(\"\\t[expr %i*$FirstStory]; \" % (i-1))  # Y coordinate\n",
    "                tclfile.write(\"\\t# Level %i\\n\" % i)  # Comments to explain floor level\n",
    "            else:\n",
    "                tclfile.write(\"\\t[expr 1*FirstStory+TypicalStory];\" % (i-2))\n",
    "                tclfile.write(\"\\t# Level %i\\n\" % i)\n",
    "        tclfile.write(\"\\n\")\n",
    "        tclfile.write(\"# puts \\\"Nodes for leaning column defined\\\" \\n\\n\")\n",
    "        # Write the extra nodes for leaning column springs\n",
    "        tclfile.write(\"# Define extra nodes needed to define leaning column springs \\n\")\n",
    "        for i in range(2, building.geometry['number of story']+2):\n",
    "            # The node below floor level\n",
    "            tclfile.write(\"node\\t%i%i%i\" % (building.geometry['number of X bay']+2, i, 2))  # Node label\n",
    "            tclfile.write(\"\\t[expr %i*$BayWidth]\" % (building.geometry['number of X bay'] + 1))  # X coordinate\n",
    "            tclfile.write(\"\\t[expr 1*FirstStory+TypicalStory];\" % (i-2))  # Y coordinate\n",
    "            tclfile.write(\"\\t# Node below floor level %i\\n\" % i)\n",
    "            # If it's top story, node above roof is not needed\n",
    "            # because no leaning column above roof\n",
    "            if i < building.geometry['number of story']+1:\n",
    "                # The node above floor level\n",
    "                tclfile.write(\"node\\t%i%i%i\" % (building.geometry['number of X bay']+2, i, 4))  # Nodel label\n",
    "                tclfile.write(\"\\t[expr %i*$BayWidth]\" % (building.geometry['number of X bay']+1))  # X coordinate\n",
    "                tclfile.write(\"\\t[expr 1*FirstStory+TypicalStory];\" % (i-2))  # Y coordinate\n",
    "                tclfile.write(\"\\t# Node above floor level %i\\n\" % i)\n",
    "            else:\n",
    "                pass\n",
    "        tclfile.write(\"\\n\")\n",
    "        tclfile.write(\"# puts \\\"Extra nodes for leaning column springs defined\\\"\\n\")\n",
    "```"
   ]
  },
  {
   "cell_type": "code",
   "execution_count": 46,
   "id": "0cf41c81",
   "metadata": {
    "scrolled": true
   },
   "outputs": [
    {
     "name": "stdout",
     "output_type": "stream",
     "text": [
      "# This file will be used to define all nodes \n",
      "# Units: inch \n",
      "\n",
      "\n",
      "# Set bay width and story height \n",
      "set\tBayWidth\t[expr 30.00*12]; \n",
      "set\tFirstStory\t[expr 13.00*12]; \n",
      "set\tTypicalStory\t[expr 13.00*12]; \n",
      "\n",
      "\n",
      "# Define nodes at corner of frames \n",
      "# Level 1 \n",
      "node\t111\t[expr 0*$BayWidth]\t[expr 0*$FirstStory];\t # Column #1 \n",
      "node\t211\t[expr 1*$BayWidth]\t[expr 0*$FirstStory];\t # Column #2 \n",
      "node\t311\t[expr 2*$BayWidth]\t[expr 0*$FirstStory];\t # Column #3 \n",
      "node\t411\t[expr 3*$BayWidth]\t[expr 0*$FirstStory];\t # Column #4 \n",
      "node\t511\t[expr 4*$BayWidth]\t[expr 0*$FirstStory];\t # Column #5 \n",
      "\n",
      "# Level 2 \n",
      "node\t121\t[expr 0*$BayWidth]\t[expr 1*$FirstStory];\t # Column #1 \n",
      "node\t221\t[expr 1*$BayWidth]\t[expr 1*$FirstStory];\t # Column #2 \n",
      "node\t321\t[expr 2*$BayWidth]\t[expr 1*$FirstStory];\t # Column #3 \n",
      "node\t421\t[expr 3*$BayWidth]\t[expr 1*$FirstStory];\t # Column #4 \n",
      "node\t521\t[expr 4*$BayWidth]\t[expr 1*$FirstStory];\t # Column #5 \n",
      "\n",
      "# Level 3 \n",
      "node\t131\t[expr 0*$BayWidth]\t[expr 1*$FirstStory+1*$TypicalStory];\t # Column #1 \n",
      "node\t231\t[expr 1*$BayWidth]\t[expr 1*$FirstStory+1*$TypicalStory];\t # Column #2 \n",
      "node\t331\t[expr 2*$BayWidth]\t[expr 1*$FirstStory+1*$TypicalStory];\t # Column #3 \n",
      "node\t431\t[expr 3*$BayWidth]\t[expr 1*$FirstStory+1*$TypicalStory];\t # Column #4 \n",
      "node\t531\t[expr 4*$BayWidth]\t[expr 1*$FirstStory+1*$TypicalStory];\t # Column #5 \n",
      "\n",
      "# Level 4 \n",
      "node\t141\t[expr 0*$BayWidth]\t[expr 1*$FirstStory+2*$TypicalStory];\t # Column #1 \n",
      "node\t241\t[expr 1*$BayWidth]\t[expr 1*$FirstStory+2*$TypicalStory];\t # Column #2 \n",
      "node\t341\t[expr 2*$BayWidth]\t[expr 1*$FirstStory+2*$TypicalStory];\t # Column #3 \n",
      "node\t441\t[expr 3*$BayWidth]\t[expr 1*$FirstStory+2*$TypicalStory];\t # Column #4 \n",
      "node\t541\t[expr 4*$BayWidth]\t[expr 1*$FirstStory+2*$TypicalStory];\t # Column #5 \n",
      "\n",
      "# puts \"Nodes at frame corner defined\" \n",
      "\n",
      "# Define nodes for leaning column \n",
      "node\t61\t[expr 5*$BayWidth]\t[expr 0*$FirstStory]; \t# Level 1\n",
      "node\t62\t[expr 5*$BayWidth]\t[expr 1*$FirstStory]; \t# Level 2\n",
      "node\t63\t[expr 5*$BayWidth]\t[expr 1*$FirstStory+1*$TypicalStory];\t# Level 3\n",
      "node\t64\t[expr 5*$BayWidth]\t[expr 1*$FirstStory+2*$TypicalStory];\t# Level 4\n",
      "\n",
      "# puts \"Nodes for leaning column defined\" \n",
      "\n",
      "# Define extra nodes needed to define leaning column springs \n",
      "node\t622\t[expr 5*$BayWidth]\t[expr 1*$FirstStory+0*$TypicalStory];\t# Node below floor level 2\n",
      "node\t624\t[expr 5*$BayWidth]\t[expr 1*$FirstStory+0*$TypicalStory];\t# Node above floor level 2\n",
      "node\t632\t[expr 5*$BayWidth]\t[expr 1*$FirstStory+1*$TypicalStory];\t# Node below floor level 3\n",
      "node\t634\t[expr 5*$BayWidth]\t[expr 1*$FirstStory+1*$TypicalStory];\t# Node above floor level 3\n",
      "node\t642\t[expr 5*$BayWidth]\t[expr 1*$FirstStory+2*$TypicalStory];\t# Node below floor level 4\n",
      "\n",
      "# puts \"Extra nodes for leaning column springs defined\"\n",
      "\n"
     ]
    }
   ],
   "source": [
    "f = open('DefineNodes2DModel.tcl', 'r')\n",
    "file_contents = f.read()\n",
    "print (file_contents)\n",
    "f.close()"
   ]
  },
  {
   "cell_type": "markdown",
   "id": "5d47a454",
   "metadata": {},
   "source": [
    "#### write_fixities\n",
    "\n",
    "```python\n",
    "def write_fixities(self, building):\n",
    "    # Create a .tcl file to write boundary for the model\n",
    "    with open('DefineFixities2DModel.tcl', 'w') as tclfile:\n",
    "        tclfile.write(\"# This file will be used to define the fixity at all column bases \\n\\n\\n\")\n",
    "        tclfile.write(\"# Defining fixity at column base \\n\")\n",
    "        for j in range(1, building.geometry['number of X bay']+2):\n",
    "            tclfile.write(\"fix\\t%i%i%i\\t1\\t1\\t1; \\n\" % (j, 1, 1))\n",
    "        # Leaning column base\n",
    "        tclfile.write(\"fix\\t%i%i\\t1\\t1\\t0; \\n\\n\" % (building.geometry['number of X bay']+2, 1))\n",
    "        tclfile.write(\"# puts \\\"All column base fixities have been defined\\\"\")\n",
    "```"
   ]
  },
  {
   "cell_type": "code",
   "execution_count": 48,
   "id": "84dd6c76",
   "metadata": {
    "scrolled": false
   },
   "outputs": [
    {
     "data": {
      "text/plain": [
       "{'number of story': 3,\n",
       " 'number of X bay': 4,\n",
       " 'number of Z bay': 4,\n",
       " 'first story height': 13,\n",
       " 'typical story height': 13,\n",
       " 'X bay width': 30,\n",
       " 'Z bay width': 30,\n",
       " 'number of X LFRS': 2,\n",
       " 'number of Z LFRS': 2,\n",
       " 'floor height': array([[ 0.],\n",
       "        [13.],\n",
       "        [26.],\n",
       "        [39.]])}"
      ]
     },
     "execution_count": 48,
     "metadata": {},
     "output_type": "execute_result"
    }
   ],
   "source": [
    "building_1.geometry"
   ]
  },
  {
   "cell_type": "code",
   "execution_count": 50,
   "id": "697b277e",
   "metadata": {
    "scrolled": false
   },
   "outputs": [
    {
     "name": "stdout",
     "output_type": "stream",
     "text": [
      "fix\t111\t1\t1\t1; \n",
      "\n",
      "fix\t211\t1\t1\t1; \n",
      "\n",
      "fix\t311\t1\t1\t1; \n",
      "\n",
      "fix\t411\t1\t1\t1; \n",
      "\n",
      "fix\t511\t1\t1\t1; \n",
      "\n"
     ]
    }
   ],
   "source": [
    "for j in range(1, building_1.geometry['number of X bay']+2):\n",
    "    print(\"fix\\t%i%i%i\\t1\\t1\\t1; \\n\" % (j, 1, 1))"
   ]
  },
  {
   "cell_type": "code",
   "execution_count": 47,
   "id": "01467193",
   "metadata": {
    "scrolled": false
   },
   "outputs": [
    {
     "name": "stdout",
     "output_type": "stream",
     "text": [
      "# This file will be used to define the fixity at all column bases \n",
      "\n",
      "\n",
      "# Defining fixity at column base \n",
      "fix\t111\t1\t1\t1; \n",
      "fix\t211\t1\t1\t1; \n",
      "fix\t311\t1\t1\t1; \n",
      "fix\t411\t1\t1\t1; \n",
      "fix\t511\t1\t1\t1; \n",
      "fix\t61\t1\t1\t0; \n",
      "\n",
      "# puts \"All column base fixities have been defined\"\n"
     ]
    }
   ],
   "source": [
    "f = open('DefineFixities2DModel.tcl', 'r')\n",
    "file_contents = f.read()\n",
    "print (file_contents)\n",
    "f.close()"
   ]
  },
  {
   "cell_type": "markdown",
   "id": "69d662c0",
   "metadata": {},
   "source": [
    "#### write_floor_constraint\n",
    "\n",
    "```python\n",
    "def write_floor_constraint(self, building):\n",
    "    # Create a .tcl file to write floor constrain, i.e., equal DOF\n",
    "    with open('DefineFloorConstraint2DModel.tcl', 'w') as tclfile:\n",
    "        tclfile.write(\"# This file will be used to define floor constraint \\n\\n\")\n",
    "        tclfile.write(\"set\\tConstrainDOF\\t1;\\t# Nodes at same floor level have identical lateral displacement \\n\\n\")\n",
    "        # Constraint starts from floor level 2\n",
    "        for i in range(2, building.geometry['number of story']+2):\n",
    "            tclfile.write(\"# Level %i \\n\" % i)\n",
    "            for j in range(2, building.geometry['number of X bay']+2):\n",
    "                tclfile.write(\"equalDOF\\t%i%i%i\\t%i%i%i\\t$ConstrainDOF;\" % (1, i, 1, j, i, 1))\n",
    "                tclfile.write(\"\\t# Pier 1 to Pier %i\\n\" % j)\n",
    "            # Include the leaning column nodes to floor constrain\n",
    "            tclfile.write(\"equalDOF\\t%i%i%i\\t%i%i\\t$ConstrainDOF;\"\n",
    "                          % (1, i, 1, building.geometry['number of X bay']+2, i))\n",
    "            tclfile.write(\"\\t# Pier 1 to Leaning column\\n\\n\")\n",
    "        tclfile.write(\"# puts \\\"Floor constraint defined\\\"\")\n",
    "```"
   ]
  },
  {
   "cell_type": "code",
   "execution_count": 48,
   "id": "5648cc62",
   "metadata": {
    "scrolled": true
   },
   "outputs": [
    {
     "data": {
      "text/plain": [
       "{'number of story': 3,\n",
       " 'number of X bay': 4,\n",
       " 'number of Z bay': 4,\n",
       " 'first story height': 13,\n",
       " 'typical story height': 13,\n",
       " 'X bay width': 30,\n",
       " 'Z bay width': 30,\n",
       " 'number of X LFRS': 2,\n",
       " 'number of Z LFRS': 2,\n",
       " 'floor height': array([[ 0.],\n",
       "        [13.],\n",
       "        [26.],\n",
       "        [39.]])}"
      ]
     },
     "execution_count": 48,
     "metadata": {},
     "output_type": "execute_result"
    }
   ],
   "source": [
    "building_1.geometry"
   ]
  },
  {
   "cell_type": "code",
   "execution_count": 51,
   "id": "9b9d03a0",
   "metadata": {
    "scrolled": true
   },
   "outputs": [
    {
     "name": "stdout",
     "output_type": "stream",
     "text": [
      "# Level 2 \n",
      "\n",
      "equalDOF\t121\t221\t$ConstrainDOF;\n",
      "\t# Pier 1 to Pier 2\n",
      "\n",
      "equalDOF\t121\t321\t$ConstrainDOF;\n",
      "\t# Pier 1 to Pier 3\n",
      "\n",
      "equalDOF\t121\t421\t$ConstrainDOF;\n",
      "\t# Pier 1 to Pier 4\n",
      "\n",
      "equalDOF\t121\t521\t$ConstrainDOF;\n",
      "\t# Pier 1 to Pier 5\n",
      "\n",
      "# Level 3 \n",
      "\n",
      "equalDOF\t131\t231\t$ConstrainDOF;\n",
      "\t# Pier 1 to Pier 2\n",
      "\n",
      "equalDOF\t131\t331\t$ConstrainDOF;\n",
      "\t# Pier 1 to Pier 3\n",
      "\n",
      "equalDOF\t131\t431\t$ConstrainDOF;\n",
      "\t# Pier 1 to Pier 4\n",
      "\n",
      "equalDOF\t131\t531\t$ConstrainDOF;\n",
      "\t# Pier 1 to Pier 5\n",
      "\n",
      "# Level 4 \n",
      "\n",
      "equalDOF\t141\t241\t$ConstrainDOF;\n",
      "\t# Pier 1 to Pier 2\n",
      "\n",
      "equalDOF\t141\t341\t$ConstrainDOF;\n",
      "\t# Pier 1 to Pier 3\n",
      "\n",
      "equalDOF\t141\t441\t$ConstrainDOF;\n",
      "\t# Pier 1 to Pier 4\n",
      "\n",
      "equalDOF\t141\t541\t$ConstrainDOF;\n",
      "\t# Pier 1 to Pier 5\n",
      "\n"
     ]
    }
   ],
   "source": [
    "for i in range(2, building_1.geometry['number of story']+2):\n",
    "    print(\"# Level %i \\n\" % i)\n",
    "    for j in range(2, building_1.geometry['number of X bay']+2):\n",
    "        print(\"equalDOF\\t%i%i%i\\t%i%i%i\\t$ConstrainDOF;\" % (1, i, 1, j, i, 1))\n",
    "        print(\"\\t# Pier 1 to Pier %i\\n\" % j)"
   ]
  },
  {
   "cell_type": "code",
   "execution_count": 52,
   "id": "e96c9a14",
   "metadata": {
    "scrolled": true
   },
   "outputs": [
    {
     "name": "stdout",
     "output_type": "stream",
     "text": [
      "# This file will be used to define floor constraint \n",
      "\n",
      "set\tConstrainDOF\t1;\t# Nodes at same floor level have identical lateral displacement \n",
      "\n",
      "# Level 2 \n",
      "equalDOF\t121\t221\t$ConstrainDOF;\t# Pier 1 to Pier 2\n",
      "equalDOF\t121\t321\t$ConstrainDOF;\t# Pier 1 to Pier 3\n",
      "equalDOF\t121\t421\t$ConstrainDOF;\t# Pier 1 to Pier 4\n",
      "equalDOF\t121\t521\t$ConstrainDOF;\t# Pier 1 to Pier 5\n",
      "equalDOF\t121\t62\t$ConstrainDOF;\t# Pier 1 to Leaning column\n",
      "\n",
      "# Level 3 \n",
      "equalDOF\t131\t231\t$ConstrainDOF;\t# Pier 1 to Pier 2\n",
      "equalDOF\t131\t331\t$ConstrainDOF;\t# Pier 1 to Pier 3\n",
      "equalDOF\t131\t431\t$ConstrainDOF;\t# Pier 1 to Pier 4\n",
      "equalDOF\t131\t531\t$ConstrainDOF;\t# Pier 1 to Pier 5\n",
      "equalDOF\t131\t63\t$ConstrainDOF;\t# Pier 1 to Leaning column\n",
      "\n",
      "# Level 4 \n",
      "equalDOF\t141\t241\t$ConstrainDOF;\t# Pier 1 to Pier 2\n",
      "equalDOF\t141\t341\t$ConstrainDOF;\t# Pier 1 to Pier 3\n",
      "equalDOF\t141\t441\t$ConstrainDOF;\t# Pier 1 to Pier 4\n",
      "equalDOF\t141\t541\t$ConstrainDOF;\t# Pier 1 to Pier 5\n",
      "equalDOF\t141\t64\t$ConstrainDOF;\t# Pier 1 to Leaning column\n",
      "\n",
      "# puts \"Floor constraint defined\"\n"
     ]
    }
   ],
   "source": [
    "f = open('DefineFloorConstraint2DModel.tcl', 'r')\n",
    "file_contents = f.read()\n",
    "print (file_contents)\n",
    "f.close()"
   ]
  },
  {
   "cell_type": "markdown",
   "id": "2e504f4d",
   "metadata": {},
   "source": [
    "#### write_beam\n",
    "\n",
    "```python\n",
    "def write_beam(self, building):\n",
    "    # Create a .tcl file to write beam elements\n",
    "    with open('DefineBeams2DModel.tcl', 'w') as tclfile:\n",
    "        tclfile.write(\"# This file will be used to define beam elements \\n\\n\\n\")\n",
    "        tclfile.write(\"# Define beam section sizes \\n\")\n",
    "        for i in range(2, building.geometry['number of story']+2):\n",
    "            tclfile.write(\"set\\tBeamLevel%i\\t[SectionProperty %s]; \\n\" % (i, building.member_size['beam'][i-2]))\n",
    "        tclfile.write(\"\\n\\n# Define beams \\n\")\n",
    "        for i in range(2, building.geometry['number of story']+2):\n",
    "            tclfile.write(\"# Level %i\\n\" % i)\n",
    "            # Beam elements in frame\n",
    "            for j in range(1, building.geometry['number of X bay']+1):\n",
    "                tclfile.write(\"element\\telasticBeamColumn\")  # elastic beam-column command\n",
    "                tclfile.write(\"\\t%i%i%i%i%i%i%i\" % (2, j, i, 1, j+1, i, 1))  # Beam element tag\n",
    "                tclfile.write(\"\\t%i%i%i\" % (j, i, 1))  # Starting node\n",
    "                tclfile.write(\"\\t%i%i%i\" % (j+1, i, 1))  # Ending node\n",
    "                tclfile.write(\"\\t[lindex $BeamLevel%i 2]\" % i)  # Area of beam section\n",
    "                tclfile.write(\"\\t$Es\")  # Young's modulus of steel material\n",
    "                tclfile.write(\"\\t[lindex $BeamLevel%i 6]\" % i)  # Moment of inertia of beam section\n",
    "                tclfile.write(\"\\t$LinearTransf; \\n\")  # Geometric transformation\n",
    "            # Beam elements connection frame and leaning column\n",
    "            tclfile.write(\"element\\ttruss\")  # elastic beam-column command\n",
    "            tclfile.write(\"\\t%i%i%i%i%i%i\" % (2, building.geometry['number of X bay']+1, i, 1,\n",
    "                                              building.geometry['number of X bay']+2, i))\n",
    "            tclfile.write(\"\\t%i%i%i\" % (building.geometry['number of X bay']+1, i, 1))  # Starting node in frame\n",
    "            tclfile.write(\"\\t%i%i\" % (building.geometry['number of X bay']+2, i))  # Ending node in leaning column\n",
    "            tclfile.write(\"\\t$AreaRigid\\t$TrussMatID; \\n\")  # Large area and truss element material\n",
    "            tclfile.write(\"\\n\")\n",
    "        tclfile.write(\"# puts \\\"Beams defined\\\"\")\n",
    "```"
   ]
  },
  {
   "cell_type": "code",
   "execution_count": 55,
   "id": "9d047e4e",
   "metadata": {},
   "outputs": [
    {
     "name": "stdout",
     "output_type": "stream",
     "text": [
      "set\tBeamLevel2\t[SectionProperty W33X263]; \n",
      "\n",
      "set\tBeamLevel3\t[SectionProperty W33X263]; \n",
      "\n",
      "set\tBeamLevel4\t[SectionProperty W33X263]; \n",
      "\n",
      "\n",
      "\n",
      "# Define beams \n",
      "\n",
      "# Level 2\n",
      "\n",
      "element\telasticBeamColumn\n",
      "\t2121221\n",
      "\t121\n",
      "\t221\n",
      "\t[lindex $BeamLevel2 2]\n",
      "\t$Es\n",
      "\t[lindex $BeamLevel2 6]\n",
      "\t$LinearTransf; \n",
      "\n",
      "element\telasticBeamColumn\n",
      "\t2221321\n",
      "\t221\n",
      "\t321\n",
      "\t[lindex $BeamLevel2 2]\n",
      "\t$Es\n",
      "\t[lindex $BeamLevel2 6]\n",
      "\t$LinearTransf; \n",
      "\n",
      "element\telasticBeamColumn\n",
      "\t2321421\n",
      "\t321\n",
      "\t421\n",
      "\t[lindex $BeamLevel2 2]\n",
      "\t$Es\n",
      "\t[lindex $BeamLevel2 6]\n",
      "\t$LinearTransf; \n",
      "\n",
      "element\telasticBeamColumn\n",
      "\t2421521\n",
      "\t421\n",
      "\t521\n",
      "\t[lindex $BeamLevel2 2]\n",
      "\t$Es\n",
      "\t[lindex $BeamLevel2 6]\n",
      "\t$LinearTransf; \n",
      "\n",
      "# Level 3\n",
      "\n",
      "element\telasticBeamColumn\n",
      "\t2131231\n",
      "\t131\n",
      "\t231\n",
      "\t[lindex $BeamLevel3 2]\n",
      "\t$Es\n",
      "\t[lindex $BeamLevel3 6]\n",
      "\t$LinearTransf; \n",
      "\n",
      "element\telasticBeamColumn\n",
      "\t2231331\n",
      "\t231\n",
      "\t331\n",
      "\t[lindex $BeamLevel3 2]\n",
      "\t$Es\n",
      "\t[lindex $BeamLevel3 6]\n",
      "\t$LinearTransf; \n",
      "\n",
      "element\telasticBeamColumn\n",
      "\t2331431\n",
      "\t331\n",
      "\t431\n",
      "\t[lindex $BeamLevel3 2]\n",
      "\t$Es\n",
      "\t[lindex $BeamLevel3 6]\n",
      "\t$LinearTransf; \n",
      "\n",
      "element\telasticBeamColumn\n",
      "\t2431531\n",
      "\t431\n",
      "\t531\n",
      "\t[lindex $BeamLevel3 2]\n",
      "\t$Es\n",
      "\t[lindex $BeamLevel3 6]\n",
      "\t$LinearTransf; \n",
      "\n",
      "# Level 4\n",
      "\n",
      "element\telasticBeamColumn\n",
      "\t2141241\n",
      "\t141\n",
      "\t241\n",
      "\t[lindex $BeamLevel4 2]\n",
      "\t$Es\n",
      "\t[lindex $BeamLevel4 6]\n",
      "\t$LinearTransf; \n",
      "\n",
      "element\telasticBeamColumn\n",
      "\t2241341\n",
      "\t241\n",
      "\t341\n",
      "\t[lindex $BeamLevel4 2]\n",
      "\t$Es\n",
      "\t[lindex $BeamLevel4 6]\n",
      "\t$LinearTransf; \n",
      "\n",
      "element\telasticBeamColumn\n",
      "\t2341441\n",
      "\t341\n",
      "\t441\n",
      "\t[lindex $BeamLevel4 2]\n",
      "\t$Es\n",
      "\t[lindex $BeamLevel4 6]\n",
      "\t$LinearTransf; \n",
      "\n",
      "element\telasticBeamColumn\n",
      "\t2441541\n",
      "\t441\n",
      "\t541\n",
      "\t[lindex $BeamLevel4 2]\n",
      "\t$Es\n",
      "\t[lindex $BeamLevel4 6]\n",
      "\t$LinearTransf; \n",
      "\n"
     ]
    }
   ],
   "source": [
    "for i in range(2, building_1.geometry['number of story']+2):\n",
    "    print(\"set\\tBeamLevel%i\\t[SectionProperty %s]; \\n\" % (i, building_1.member_size['beam'][i-2]))\n",
    "print(\"\\n\\n# Define beams \\n\")\n",
    "for i in range(2, building_1.geometry['number of story']+2):\n",
    "    print(\"# Level %i\\n\" % i)\n",
    "    # Beam elements in frame\n",
    "    for j in range(1, building_1.geometry['number of X bay']+1):\n",
    "        print(\"element\\telasticBeamColumn\")  # elastic beam-column command\n",
    "        print(\"\\t%i%i%i%i%i%i%i\" % (2, j, i, 1, j+1, i, 1))  # Beam element tag\n",
    "        print(\"\\t%i%i%i\" % (j, i, 1))  # Starting node\n",
    "        print(\"\\t%i%i%i\" % (j+1, i, 1))  # Ending node\n",
    "        print(\"\\t[lindex $BeamLevel%i 2]\" % i)  # Area of beam section\n",
    "        print(\"\\t$Es\")  # Young's modulus of steel material\n",
    "        print(\"\\t[lindex $BeamLevel%i 6]\" % i)  # Moment of inertia of beam section\n",
    "        print(\"\\t$LinearTransf; \\n\")  # Geometric transformation"
   ]
  },
  {
   "cell_type": "code",
   "execution_count": 53,
   "id": "7a2b9c34",
   "metadata": {
    "scrolled": true
   },
   "outputs": [
    {
     "name": "stdout",
     "output_type": "stream",
     "text": [
      "# This file will be used to define beam elements \n",
      "\n",
      "\n",
      "# Define beam section sizes \n",
      "set\tBeamLevel2\t[SectionProperty W33X263]; \n",
      "set\tBeamLevel3\t[SectionProperty W33X263]; \n",
      "set\tBeamLevel4\t[SectionProperty W33X263]; \n",
      "\n",
      "\n",
      "# Define beams \n",
      "# Level 2\n",
      "element\telasticBeamColumn\t2121221\t121\t221\t[lindex $BeamLevel2 2]\t$Es\t[lindex $BeamLevel2 6]\t$LinearTransf; \n",
      "element\telasticBeamColumn\t2221321\t221\t321\t[lindex $BeamLevel2 2]\t$Es\t[lindex $BeamLevel2 6]\t$LinearTransf; \n",
      "element\telasticBeamColumn\t2321421\t321\t421\t[lindex $BeamLevel2 2]\t$Es\t[lindex $BeamLevel2 6]\t$LinearTransf; \n",
      "element\telasticBeamColumn\t2421521\t421\t521\t[lindex $BeamLevel2 2]\t$Es\t[lindex $BeamLevel2 6]\t$LinearTransf; \n",
      "element\ttruss\t252162\t521\t62\t$AreaRigid\t$TrussMatID; \n",
      "\n",
      "# Level 3\n",
      "element\telasticBeamColumn\t2131231\t131\t231\t[lindex $BeamLevel3 2]\t$Es\t[lindex $BeamLevel3 6]\t$LinearTransf; \n",
      "element\telasticBeamColumn\t2231331\t231\t331\t[lindex $BeamLevel3 2]\t$Es\t[lindex $BeamLevel3 6]\t$LinearTransf; \n",
      "element\telasticBeamColumn\t2331431\t331\t431\t[lindex $BeamLevel3 2]\t$Es\t[lindex $BeamLevel3 6]\t$LinearTransf; \n",
      "element\telasticBeamColumn\t2431531\t431\t531\t[lindex $BeamLevel3 2]\t$Es\t[lindex $BeamLevel3 6]\t$LinearTransf; \n",
      "element\ttruss\t253163\t531\t63\t$AreaRigid\t$TrussMatID; \n",
      "\n",
      "# Level 4\n",
      "element\telasticBeamColumn\t2141241\t141\t241\t[lindex $BeamLevel4 2]\t$Es\t[lindex $BeamLevel4 6]\t$LinearTransf; \n",
      "element\telasticBeamColumn\t2241341\t241\t341\t[lindex $BeamLevel4 2]\t$Es\t[lindex $BeamLevel4 6]\t$LinearTransf; \n",
      "element\telasticBeamColumn\t2341441\t341\t441\t[lindex $BeamLevel4 2]\t$Es\t[lindex $BeamLevel4 6]\t$LinearTransf; \n",
      "element\telasticBeamColumn\t2441541\t441\t541\t[lindex $BeamLevel4 2]\t$Es\t[lindex $BeamLevel4 6]\t$LinearTransf; \n",
      "element\ttruss\t254164\t541\t64\t$AreaRigid\t$TrussMatID; \n",
      "\n",
      "# puts \"Beams defined\"\n"
     ]
    }
   ],
   "source": [
    "f = open('DefineBeams2DModel.tcl', 'r')\n",
    "file_contents = f.read()\n",
    "print (file_contents)\n",
    "f.close()"
   ]
  },
  {
   "cell_type": "markdown",
   "id": "55a7bc83",
   "metadata": {},
   "source": [
    "### global_variables.py"
   ]
  },
  {
   "cell_type": "markdown",
   "id": "f8126fdb",
   "metadata": {},
   "source": [
    "#### SteelMaterial\n",
    "\n",
    "https://github.com/shishitao/AutoSDAPlatform/blob/master/steel_material.py\n",
    "\n",
    "```python\n",
    "class SteelMaterial(object):\n",
    "    \"\"\"\n",
    "    This class is used to define the steel material.\n",
    "    It includes the following physical quantities:\n",
    "    (1) Yield stress (Fy)\n",
    "    (2) Ultimate stress (Fu)\n",
    "    (3) Young's modulus (E)\n",
    "    (4) Ry value\n",
    "    \"\"\"\n",
    "\n",
    "    def __init__(self, yield_stress=50, ultimate_stress=65, elastic_modulus=29000, Ry_value=1.1):\n",
    "        \"\"\"\n",
    "        :param yield_stress: Fy of steel material, default value is 50 ksi\n",
    "        :param elastic_modulus: E of steel material, default value is 29000 ksi\n",
    "        \"\"\"\n",
    "        self.Fy = yield_stress\n",
    "        self.Fu = ultimate_stress\n",
    "        self.E = elastic_modulus\n",
    "        self.Ry = Ry_value\n",
    "```"
   ]
  },
  {
   "cell_type": "code",
   "execution_count": 17,
   "id": "4da0ff34",
   "metadata": {},
   "outputs": [],
   "source": [
    "from steel_material import SteelMaterial\n",
    "\n",
    "# Define the current utilized steel type:\n",
    "steel = SteelMaterial(yield_stress=50, ultimate_stress=65, elastic_modulus=29000, Ry_value=1.1)  # Unit: ksi"
   ]
  },
  {
   "cell_type": "code",
   "execution_count": 18,
   "id": "6ce45810",
   "metadata": {
    "scrolled": true
   },
   "outputs": [
    {
     "data": {
      "text/plain": [
       "50"
      ]
     },
     "execution_count": 18,
     "metadata": {},
     "output_type": "execute_result"
    }
   ],
   "source": [
    "steel.Fy"
   ]
  },
  {
   "cell_type": "code",
   "execution_count": 19,
   "id": "324d8cf5",
   "metadata": {},
   "outputs": [
    {
     "data": {
      "text/plain": [
       "65"
      ]
     },
     "execution_count": 19,
     "metadata": {},
     "output_type": "execute_result"
    }
   ],
   "source": [
    "steel.Fu"
   ]
  },
  {
   "cell_type": "code",
   "execution_count": 20,
   "id": "01b98eed",
   "metadata": {},
   "outputs": [
    {
     "data": {
      "text/plain": [
       "29000"
      ]
     },
     "execution_count": 20,
     "metadata": {},
     "output_type": "execute_result"
    }
   ],
   "source": [
    "steel.E"
   ]
  },
  {
   "cell_type": "code",
   "execution_count": 21,
   "id": "f66e6965",
   "metadata": {
    "scrolled": true
   },
   "outputs": [
    {
     "data": {
      "text/plain": [
       "1.1"
      ]
     },
     "execution_count": 21,
     "metadata": {},
     "output_type": "execute_result"
    }
   ],
   "source": [
    "steel.Ry"
   ]
  },
  {
   "cell_type": "markdown",
   "id": "c2744941",
   "metadata": {},
   "source": [
    "#### base_directory\n",
    "```python\n",
    "# Define path to where ElasticAnalysis tool base directory\n",
    "base_directory = pathlib.Path(os.getcwd())\n",
    "```"
   ]
  },
  {
   "cell_type": "code",
   "execution_count": 22,
   "id": "07e91fd8",
   "metadata": {},
   "outputs": [
    {
     "data": {
      "text/plain": [
       "WindowsPath('G:/My Drive/Reference/GitHub/AutoSDAPlatform/BuildingData/Building_0')"
      ]
     },
     "execution_count": 22,
     "metadata": {},
     "output_type": "execute_result"
    }
   ],
   "source": [
    "import os\n",
    "import pathlib\n",
    "\n",
    "pathlib.Path(os.getcwd())"
   ]
  },
  {
   "cell_type": "code",
   "execution_count": 23,
   "id": "a1c68485",
   "metadata": {
    "scrolled": true
   },
   "outputs": [
    {
     "data": {
      "text/plain": [
       "'G:\\\\My Drive\\\\Reference\\\\GitHub\\\\AutoSDAPlatform\\\\BuildingData\\\\Building_0'"
      ]
     },
     "execution_count": 23,
     "metadata": {},
     "output_type": "execute_result"
    }
   ],
   "source": [
    "os.getcwd() # pathlib.Path(os.getcwd()) vs os.getcwd()"
   ]
  },
  {
   "cell_type": "markdown",
   "id": "fecf91c9",
   "metadata": {},
   "source": [
    "### help_functions.py"
   ]
  },
  {
   "cell_type": "code",
   "execution_count": 24,
   "id": "82e92b4e",
   "metadata": {},
   "outputs": [],
   "source": [
    "import numpy as np\n",
    "import re\n",
    "import sys\n",
    "\n",
    "from global_variables import SECTION_DATABASE"
   ]
  },
  {
   "cell_type": "markdown",
   "id": "af5e3a9b",
   "metadata": {},
   "source": [
    "#### \n",
    "\n",
    "```python\n",
    "\n",
    "```"
   ]
  },
  {
   "cell_type": "code",
   "execution_count": null,
   "id": "10480413",
   "metadata": {},
   "outputs": [],
   "source": []
  },
  {
   "cell_type": "code",
   "execution_count": null,
   "id": "c2cf40e4",
   "metadata": {},
   "outputs": [],
   "source": []
  },
  {
   "cell_type": "markdown",
   "id": "7716a65d",
   "metadata": {},
   "source": [
    "### seismic_design.py\n",
    "\n",
    "https://github.com/shishitao/AutoSDAPlatform/blob/master/seismic_design.py"
   ]
  },
  {
   "cell_type": "markdown",
   "id": "2cb8036a",
   "metadata": {},
   "source": [
    "#### seismic_force\n",
    "\n",
    "```python\n",
    "# Create an instance using \"Building\" class\n",
    "building_1 = Building(building_id, base_directory)\n",
    "# Perform EigenValue Analysis only to obtain the period\n",
    "_ = ElasticAnalysis(building_1, for_drift_only=False, for_period_only=True)\n",
    "building_1.read_modal_period()\n",
    "# Compute the seismic story forces based on modal period and CuTa\n",
    "building_1.compute_seismic_force()\n",
    "```"
   ]
  },
  {
   "cell_type": "code",
   "execution_count": 56,
   "id": "6a551de9",
   "metadata": {
    "scrolled": true
   },
   "outputs": [],
   "source": [
    "# Perform EigenValue Analysis only to obtain the period\n",
    "_ = ElasticAnalysis(building_1, for_drift_only=False, for_period_only=True)\n",
    "building_1.read_modal_period()\n",
    "# Compute the seismic story forces based on modal period and CuTa\n",
    "building_1.compute_seismic_force()"
   ]
  },
  {
   "cell_type": "code",
   "execution_count": 58,
   "id": "ad813dbd",
   "metadata": {
    "scrolled": false
   },
   "outputs": [
    {
     "data": {
      "text/plain": [
       "{'lateral story force': 0    161.780675\n",
       " 1    350.985815\n",
       " 2    552.140063\n",
       " Name: floor weight, dtype: float64,\n",
       " 'story shear': array([[1064.90655257],\n",
       "        [ 903.12587792],\n",
       "        [ 552.14006327]]),\n",
       " 'base shear': 1064.906552570187,\n",
       " 'Cs': 0.15507595057087328}"
      ]
     },
     "execution_count": 58,
     "metadata": {},
     "output_type": "execute_result"
    }
   ],
   "source": [
    "building_1.seismic_force_for_strength "
   ]
  },
  {
   "cell_type": "code",
   "execution_count": 59,
   "id": "4dafdb86",
   "metadata": {
    "scrolled": false
   },
   "outputs": [
    {
     "data": {
      "text/plain": [
       "{'lateral story force': 0    161.780675\n",
       " 1    350.985815\n",
       " 2    552.140063\n",
       " Name: floor weight, dtype: float64,\n",
       " 'story shear': array([[1064.90655257],\n",
       "        [ 903.12587792],\n",
       "        [ 552.14006327]]),\n",
       " 'base shear': 1064.906552570187,\n",
       " 'Cs': 0.15507595057087328}"
      ]
     },
     "execution_count": 59,
     "metadata": {},
     "output_type": "execute_result"
    }
   ],
   "source": [
    "building_1.seismic_force_for_drift  "
   ]
  },
  {
   "cell_type": "code",
   "execution_count": null,
   "id": "3c17939a",
   "metadata": {},
   "outputs": [],
   "source": []
  },
  {
   "cell_type": "code",
   "execution_count": null,
   "id": "7c4211fd",
   "metadata": {},
   "outputs": [],
   "source": []
  },
  {
   "cell_type": "code",
   "execution_count": null,
   "id": "c37fc38e",
   "metadata": {},
   "outputs": [],
   "source": []
  },
  {
   "cell_type": "code",
   "execution_count": null,
   "id": "bb15db70",
   "metadata": {},
   "outputs": [],
   "source": []
  },
  {
   "cell_type": "code",
   "execution_count": null,
   "id": "c1775631",
   "metadata": {},
   "outputs": [],
   "source": []
  },
  {
   "cell_type": "code",
   "execution_count": null,
   "id": "0a755681",
   "metadata": {},
   "outputs": [],
   "source": []
  },
  {
   "cell_type": "code",
   "execution_count": null,
   "id": "5265fd71",
   "metadata": {},
   "outputs": [],
   "source": []
  }
 ],
 "metadata": {
  "hide_input": false,
  "kernelspec": {
   "display_name": "Python 3",
   "language": "python",
   "name": "python3"
  },
  "language_info": {
   "codemirror_mode": {
    "name": "ipython",
    "version": 3
   },
   "file_extension": ".py",
   "mimetype": "text/x-python",
   "name": "python",
   "nbconvert_exporter": "python",
   "pygments_lexer": "ipython3",
   "version": "3.8.5"
  },
  "toc": {
   "base_numbering": 1,
   "nav_menu": {},
   "number_sections": true,
   "sideBar": true,
   "skip_h1_title": true,
   "title_cell": "Table of Contents",
   "title_sidebar": "Contents",
   "toc_cell": true,
   "toc_position": {
    "height": "calc(100% - 180px)",
    "left": "10px",
    "top": "150px",
    "width": "188.188px"
   },
   "toc_section_display": true,
   "toc_window_display": true
  },
  "toc-autonumbering": false,
  "toc-showcode": false,
  "toc-showtags": false
 },
 "nbformat": 4,
 "nbformat_minor": 5
}
