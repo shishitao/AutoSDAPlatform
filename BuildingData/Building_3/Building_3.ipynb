{
 "cells": [
  {
   "cell_type": "markdown",
   "id": "041081ab",
   "metadata": {},
   "source": [
    "# Building_3"
   ]
  },
  {
   "cell_type": "markdown",
   "id": "3ae5de53",
   "metadata": {
    "toc": true
   },
   "source": [
    "<h1>Table of Contents<span class=\"tocSkip\"></span></h1>\n",
    "<div class=\"toc\"><ul class=\"toc-item\"><li><span><a href=\"#ELFParameters.csv\" data-toc-modified-id=\"ELFParameters.csv-1\"><span class=\"toc-item-num\">1&nbsp;&nbsp;</span>ELFParameters.csv</a></span></li><li><span><a href=\"#Geometry.csv\" data-toc-modified-id=\"Geometry.csv-2\"><span class=\"toc-item-num\">2&nbsp;&nbsp;</span>Geometry.csv</a></span></li><li><span><a href=\"#Loads.csv\" data-toc-modified-id=\"Loads.csv-3\"><span class=\"toc-item-num\">3&nbsp;&nbsp;</span>Loads.csv</a></span></li><li><span><a href=\"#MemberDepth.csv\" data-toc-modified-id=\"MemberDepth.csv-4\"><span class=\"toc-item-num\">4&nbsp;&nbsp;</span>MemberDepth.csv</a></span></li></ul></div>"
   ]
  },
  {
   "cell_type": "markdown",
   "id": "dd3bf132",
   "metadata": {},
   "source": [
    "## ELFParameters.csv"
   ]
  },
  {
   "cell_type": "code",
   "execution_count": 25,
   "id": "bb8b0ee7",
   "metadata": {
    "scrolled": true
   },
   "outputs": [
    {
     "data": {
      "text/html": [
       "<div>\n",
       "<style scoped>\n",
       "    .dataframe tbody tr th:only-of-type {\n",
       "        vertical-align: middle;\n",
       "    }\n",
       "\n",
       "    .dataframe tbody tr th {\n",
       "        vertical-align: top;\n",
       "    }\n",
       "\n",
       "    .dataframe thead th {\n",
       "        text-align: right;\n",
       "    }\n",
       "</style>\n",
       "<table border=\"1\" class=\"dataframe\">\n",
       "  <thead>\n",
       "    <tr style=\"text-align: right;\">\n",
       "      <th></th>\n",
       "      <th>Ss</th>\n",
       "      <th>S1</th>\n",
       "      <th>TL</th>\n",
       "      <th>Cd</th>\n",
       "      <th>R</th>\n",
       "      <th>Ie</th>\n",
       "      <th>rho</th>\n",
       "      <th>site class</th>\n",
       "      <th>Ct</th>\n",
       "      <th>x</th>\n",
       "    </tr>\n",
       "  </thead>\n",
       "  <tbody>\n",
       "    <tr>\n",
       "      <th>0</th>\n",
       "      <td>2.25</td>\n",
       "      <td>0.6</td>\n",
       "      <td>8</td>\n",
       "      <td>5.5</td>\n",
       "      <td>8</td>\n",
       "      <td>1</td>\n",
       "      <td>1</td>\n",
       "      <td>D</td>\n",
       "      <td>0.028</td>\n",
       "      <td>0.8</td>\n",
       "    </tr>\n",
       "  </tbody>\n",
       "</table>\n",
       "</div>"
      ],
      "text/plain": [
       "     Ss   S1  TL   Cd  R  Ie  rho site class     Ct    x\n",
       "0  2.25  0.6   8  5.5  8   1    1          D  0.028  0.8"
      ]
     },
     "metadata": {},
     "output_type": "display_data"
    }
   ],
   "source": [
    "import pandas as pd\n",
    "\n",
    "header = ([\n",
    "    \"Ss\", \"S1\", \"TL\", \"Cd\", \"R\", \"Ie\", \"rho\", \"site class\", \"Ct\", \"x\"\n",
    "])\n",
    "\n",
    "data = ([\n",
    "    [2.25, 0.6, 8, 5.5, 8, 1, 1, \"D\", 0.028, 0.8]\n",
    "]) \n",
    "    \n",
    "df = pd.DataFrame(data, columns=header)\n",
    "display(df)\n",
    "\n",
    "df.to_csv('ELFParameters.csv', index=False)"
   ]
  },
  {
   "cell_type": "markdown",
   "id": "1859e39a",
   "metadata": {},
   "source": [
    "## Geometry.csv"
   ]
  },
  {
   "cell_type": "code",
   "execution_count": 26,
   "id": "20136c62",
   "metadata": {
    "scrolled": true
   },
   "outputs": [
    {
     "data": {
      "text/html": [
       "<div>\n",
       "<style scoped>\n",
       "    .dataframe tbody tr th:only-of-type {\n",
       "        vertical-align: middle;\n",
       "    }\n",
       "\n",
       "    .dataframe tbody tr th {\n",
       "        vertical-align: top;\n",
       "    }\n",
       "\n",
       "    .dataframe thead th {\n",
       "        text-align: right;\n",
       "    }\n",
       "</style>\n",
       "<table border=\"1\" class=\"dataframe\">\n",
       "  <thead>\n",
       "    <tr style=\"text-align: right;\">\n",
       "      <th></th>\n",
       "      <th>number of story</th>\n",
       "      <th>number of X bay</th>\n",
       "      <th>number of Z bay</th>\n",
       "      <th>first story height</th>\n",
       "      <th>typical story height</th>\n",
       "      <th>X bay width</th>\n",
       "      <th>Z bay width</th>\n",
       "      <th>number of X LFRS</th>\n",
       "      <th>number of Z LFRS</th>\n",
       "    </tr>\n",
       "  </thead>\n",
       "  <tbody>\n",
       "    <tr>\n",
       "      <th>0</th>\n",
       "      <td>3</td>\n",
       "      <td>4</td>\n",
       "      <td>4</td>\n",
       "      <td>13</td>\n",
       "      <td>13</td>\n",
       "      <td>30</td>\n",
       "      <td>30</td>\n",
       "      <td>2</td>\n",
       "      <td>2</td>\n",
       "    </tr>\n",
       "  </tbody>\n",
       "</table>\n",
       "</div>"
      ],
      "text/plain": [
       "   number of story  number of X bay  number of Z bay  first story height  \\\n",
       "0                3                4                4                  13   \n",
       "\n",
       "   typical story height  X bay width  Z bay width  number of X LFRS  \\\n",
       "0                    13           30           30                 2   \n",
       "\n",
       "   number of Z LFRS  \n",
       "0                 2  "
      ]
     },
     "metadata": {},
     "output_type": "display_data"
    }
   ],
   "source": [
    "import pandas as pd\n",
    "\n",
    "header = ([\n",
    "    \"number of story\", \"number of X bay\", \"number of Z bay\", \"first story height\", \"typical story height\", \"X bay width\", \"Z bay width\", \"number of X LFRS\", \"number of Z LFRS\"\n",
    "])\n",
    "\n",
    "data = ([\n",
    "    [3, 4, 4, 13, 13, 30, 30, 2, 2]\n",
    "]) \n",
    "    \n",
    "df = pd.DataFrame(data, columns=header)\n",
    "display(df)\n",
    "\n",
    "df.to_csv('Geometry.csv', index=False)"
   ]
  },
  {
   "cell_type": "markdown",
   "id": "f4faf925",
   "metadata": {},
   "source": [
    "## Loads.csv"
   ]
  },
  {
   "cell_type": "code",
   "execution_count": 27,
   "id": "8d8b1608",
   "metadata": {
    "scrolled": true
   },
   "outputs": [
    {
     "data": {
      "text/html": [
       "<div>\n",
       "<style scoped>\n",
       "    .dataframe tbody tr th:only-of-type {\n",
       "        vertical-align: middle;\n",
       "    }\n",
       "\n",
       "    .dataframe tbody tr th {\n",
       "        vertical-align: top;\n",
       "    }\n",
       "\n",
       "    .dataframe thead th {\n",
       "        text-align: right;\n",
       "    }\n",
       "</style>\n",
       "<table border=\"1\" class=\"dataframe\">\n",
       "  <thead>\n",
       "    <tr style=\"text-align: right;\">\n",
       "      <th></th>\n",
       "      <th>floor weight</th>\n",
       "      <th>floor dead load</th>\n",
       "      <th>floor live load</th>\n",
       "      <th>beam dead load</th>\n",
       "      <th>beam live load</th>\n",
       "      <th>leaning column dead load</th>\n",
       "      <th>leaning column live load</th>\n",
       "    </tr>\n",
       "  </thead>\n",
       "  <tbody>\n",
       "    <tr>\n",
       "      <th>0</th>\n",
       "      <td>2289</td>\n",
       "      <td>106</td>\n",
       "      <td>50</td>\n",
       "      <td>1590</td>\n",
       "      <td>750</td>\n",
       "      <td>954</td>\n",
       "      <td>450</td>\n",
       "    </tr>\n",
       "    <tr>\n",
       "      <th>1</th>\n",
       "      <td>2289</td>\n",
       "      <td>106</td>\n",
       "      <td>50</td>\n",
       "      <td>1590</td>\n",
       "      <td>750</td>\n",
       "      <td>954</td>\n",
       "      <td>450</td>\n",
       "    </tr>\n",
       "    <tr>\n",
       "      <th>2</th>\n",
       "      <td>2289</td>\n",
       "      <td>106</td>\n",
       "      <td>50</td>\n",
       "      <td>1590</td>\n",
       "      <td>750</td>\n",
       "      <td>954</td>\n",
       "      <td>450</td>\n",
       "    </tr>\n",
       "  </tbody>\n",
       "</table>\n",
       "</div>"
      ],
      "text/plain": [
       "   floor weight  floor dead load  floor live load  beam dead load  \\\n",
       "0          2289              106               50            1590   \n",
       "1          2289              106               50            1590   \n",
       "2          2289              106               50            1590   \n",
       "\n",
       "   beam live load  leaning column dead load  leaning column live load  \n",
       "0             750                       954                       450  \n",
       "1             750                       954                       450  \n",
       "2             750                       954                       450  "
      ]
     },
     "metadata": {},
     "output_type": "display_data"
    }
   ],
   "source": [
    "import pandas as pd\n",
    "\n",
    "header = ([\n",
    "    \"floor weight\", \"floor dead load\", \"floor live load\", \"beam dead load\", \"beam live load\", \"leaning column dead load\", \"leaning column live load\"\n",
    "])\n",
    "\n",
    "data = ([\n",
    "    [2289, 106, 50, 1590, 750, 954, 450],\n",
    "    [2289, 106, 50, 1590, 750, 954, 450],\n",
    "    [2289, 106, 50, 1590, 750, 954, 450]    \n",
    "]) \n",
    "    \n",
    "df = pd.DataFrame(data, columns=header)\n",
    "display(df)\n",
    "\n",
    "df.to_csv('Loads.csv', index=False)"
   ]
  },
  {
   "cell_type": "markdown",
   "id": "9f68b7cb",
   "metadata": {},
   "source": [
    "## MemberDepth.csv"
   ]
  },
  {
   "cell_type": "code",
   "execution_count": 28,
   "id": "e6ea9bf6",
   "metadata": {},
   "outputs": [
    {
     "data": {
      "text/html": [
       "<div>\n",
       "<style scoped>\n",
       "    .dataframe tbody tr th:only-of-type {\n",
       "        vertical-align: middle;\n",
       "    }\n",
       "\n",
       "    .dataframe tbody tr th {\n",
       "        vertical-align: top;\n",
       "    }\n",
       "\n",
       "    .dataframe thead th {\n",
       "        text-align: right;\n",
       "    }\n",
       "</style>\n",
       "<table border=\"1\" class=\"dataframe\">\n",
       "  <thead>\n",
       "    <tr style=\"text-align: right;\">\n",
       "      <th></th>\n",
       "      <th>exterior column</th>\n",
       "      <th>interior column</th>\n",
       "      <th>beam</th>\n",
       "    </tr>\n",
       "  </thead>\n",
       "  <tbody>\n",
       "    <tr>\n",
       "      <th>0</th>\n",
       "      <td>W14</td>\n",
       "      <td>W14</td>\n",
       "      <td>W27, W30, W33</td>\n",
       "    </tr>\n",
       "    <tr>\n",
       "      <th>1</th>\n",
       "      <td>W14</td>\n",
       "      <td>W14</td>\n",
       "      <td>W27, W30, W33</td>\n",
       "    </tr>\n",
       "    <tr>\n",
       "      <th>2</th>\n",
       "      <td>W14</td>\n",
       "      <td>W14</td>\n",
       "      <td>W27, W30, W33</td>\n",
       "    </tr>\n",
       "  </tbody>\n",
       "</table>\n",
       "</div>"
      ],
      "text/plain": [
       "  exterior column interior column           beam\n",
       "0             W14             W14  W27, W30, W33\n",
       "1             W14             W14  W27, W30, W33\n",
       "2             W14             W14  W27, W30, W33"
      ]
     },
     "metadata": {},
     "output_type": "display_data"
    }
   ],
   "source": [
    "import pandas as pd\n",
    "\n",
    "header = ([\n",
    "    \"exterior column\", \"interior column\", \"beam\"\n",
    "])\n",
    "\n",
    "data = ([\n",
    "    [\"W14\", \"W14\", \"W27, W30, W33\"],\n",
    "    [\"W14\", \"W14\", \"W27, W30, W33\"],\n",
    "    [\"W14\", \"W14\", \"W27, W30, W33\"]  \n",
    "]) \n",
    "    \n",
    "df = pd.DataFrame(data, columns=header)\n",
    "display(df)\n",
    "\n",
    "df.to_csv('MemberDepth.csv', index=False)"
   ]
  },
  {
   "cell_type": "code",
   "execution_count": null,
   "id": "2f365a95",
   "metadata": {},
   "outputs": [],
   "source": []
  }
 ],
 "metadata": {
  "hide_input": false,
  "kernelspec": {
   "display_name": "Python 3",
   "language": "python",
   "name": "python3"
  },
  "language_info": {
   "codemirror_mode": {
    "name": "ipython",
    "version": 3
   },
   "file_extension": ".py",
   "mimetype": "text/x-python",
   "name": "python",
   "nbconvert_exporter": "python",
   "pygments_lexer": "ipython3",
   "version": "3.8.5"
  },
  "toc": {
   "base_numbering": 1,
   "nav_menu": {},
   "number_sections": true,
   "sideBar": true,
   "skip_h1_title": true,
   "title_cell": "Table of Contents",
   "title_sidebar": "Contents",
   "toc_cell": true,
   "toc_position": {},
   "toc_section_display": true,
   "toc_window_display": true
  }
 },
 "nbformat": 4,
 "nbformat_minor": 5
}
